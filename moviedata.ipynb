{
 "cells": [
  {
   "cell_type": "code",
   "execution_count": 2,
   "metadata": {},
   "outputs": [],
   "source": [
    "# importing libraries\n",
    "import pandas as pd\n",
    "import numpy as np\n",
    "import matplotlib.pyplot as plt\n",
    "import seaborn as sns"
   ]
  },
  {
   "cell_type": "code",
   "execution_count": 3,
   "metadata": {},
   "outputs": [],
   "source": [
    "# loading the data\n",
    "user_reviews_path = \"C:/Users/vanee/OneDrive/Documents/AI/UserReviews.xlsx\"\n",
    "expert_reviews_path = \"C:/Users/vanee/OneDrive/Documents/AI/ExpertReviews.xlsx\"\n",
    "meta_clean_path = \"C:/Users/vanee/OneDrive/Documents/AI/metaClean43Brightspace.xlsx\"\n",
    "sales_path = \"C:/Users/vanee/OneDrive/Documents/AI/sales.xlsx\"\n",
    "\n",
    "# reading the files\n",
    "user_reviews = pd.read_excel(user_reviews_path)\n",
    "#expert_reviews = pd.read_excel(expert_reviews_path)\n",
    "#meta_clean = pd.read_excel(meta_clean_path)\n",
    "#sales = pd.read_excel(sales_path)"
   ]
  },
  {
   "cell_type": "code",
   "execution_count": 4,
   "metadata": {},
   "outputs": [
    {
     "data": {
      "text/html": [
       "<div>\n",
       "<style scoped>\n",
       "    .dataframe tbody tr th:only-of-type {\n",
       "        vertical-align: middle;\n",
       "    }\n",
       "\n",
       "    .dataframe tbody tr th {\n",
       "        vertical-align: top;\n",
       "    }\n",
       "\n",
       "    .dataframe thead th {\n",
       "        text-align: right;\n",
       "    }\n",
       "</style>\n",
       "<table border=\"1\" class=\"dataframe\">\n",
       "  <thead>\n",
       "    <tr style=\"text-align: right;\">\n",
       "      <th></th>\n",
       "      <th>url</th>\n",
       "      <th>idvscore</th>\n",
       "      <th>reviewer</th>\n",
       "      <th>dateP</th>\n",
       "      <th>Rev</th>\n",
       "      <th>thumbsUp</th>\n",
       "      <th>thumbsTot</th>\n",
       "    </tr>\n",
       "  </thead>\n",
       "  <tbody>\n",
       "    <tr>\n",
       "      <th>0</th>\n",
       "      <td>https://www.metacritic.com/movie/bronson</td>\n",
       "      <td>8</td>\n",
       "      <td>'Longbottom94'</td>\n",
       "      <td>'Apr 25, 2013'</td>\n",
       "      <td>'Many have dismissed this film for not explor...</td>\n",
       "      <td>2</td>\n",
       "      <td>2</td>\n",
       "    </tr>\n",
       "    <tr>\n",
       "      <th>1</th>\n",
       "      <td>https://www.metacritic.com/movie/bronson</td>\n",
       "      <td>9</td>\n",
       "      <td>'MartinB'</td>\n",
       "      <td>'Oct 13, 2009'</td>\n",
       "      <td>'Anyone who doesn t like this movie simply ju...</td>\n",
       "      <td>0</td>\n",
       "      <td>1</td>\n",
       "    </tr>\n",
       "    <tr>\n",
       "      <th>2</th>\n",
       "      <td>https://www.metacritic.com/movie/bronson</td>\n",
       "      <td>10</td>\n",
       "      <td>'Jaakko'</td>\n",
       "      <td>'Jul 19, 2012'</td>\n",
       "      <td>'Not sure what to think at this film at first...</td>\n",
       "      <td>1</td>\n",
       "      <td>1</td>\n",
       "    </tr>\n",
       "    <tr>\n",
       "      <th>3</th>\n",
       "      <td>https://www.metacritic.com/movie/bronson</td>\n",
       "      <td>6</td>\n",
       "      <td>'CapoR'</td>\n",
       "      <td>'Oct 13, 2009'</td>\n",
       "      <td>'Nicely portrayed but it lacks the elements t...</td>\n",
       "      <td>0</td>\n",
       "      <td>1</td>\n",
       "    </tr>\n",
       "    <tr>\n",
       "      <th>4</th>\n",
       "      <td>https://www.metacritic.com/movie/bronson</td>\n",
       "      <td>8</td>\n",
       "      <td>'OrwellB.'</td>\n",
       "      <td>'Oct 10, 2009'</td>\n",
       "      <td>'Bronson is more than entertainment. It is ar...</td>\n",
       "      <td>0</td>\n",
       "      <td>0</td>\n",
       "    </tr>\n",
       "  </tbody>\n",
       "</table>\n",
       "</div>"
      ],
      "text/plain": [
       "                                        url idvscore         reviewer  \\\n",
       "0  https://www.metacritic.com/movie/bronson        8   'Longbottom94'   \n",
       "1  https://www.metacritic.com/movie/bronson        9        'MartinB'   \n",
       "2  https://www.metacritic.com/movie/bronson       10         'Jaakko'   \n",
       "3  https://www.metacritic.com/movie/bronson        6          'CapoR'   \n",
       "4  https://www.metacritic.com/movie/bronson        8       'OrwellB.'   \n",
       "\n",
       "             dateP                                                Rev  \\\n",
       "0   'Apr 25, 2013'   'Many have dismissed this film for not explor...   \n",
       "1   'Oct 13, 2009'   'Anyone who doesn t like this movie simply ju...   \n",
       "2   'Jul 19, 2012'   'Not sure what to think at this film at first...   \n",
       "3   'Oct 13, 2009'   'Nicely portrayed but it lacks the elements t...   \n",
       "4   'Oct 10, 2009'   'Bronson is more than entertainment. It is ar...   \n",
       "\n",
       "  thumbsUp thumbsTot  \n",
       "0        2         2  \n",
       "1        0         1  \n",
       "2        1         1  \n",
       "3        0         1  \n",
       "4        0         0  "
      ]
     },
     "execution_count": 4,
     "metadata": {},
     "output_type": "execute_result"
    }
   ],
   "source": [
    "# check the first few rows of user reviews\n",
    "user_reviews.head()"
   ]
  },
  {
   "cell_type": "code",
   "execution_count": 5,
   "metadata": {},
   "outputs": [
    {
     "name": "stdout",
     "output_type": "stream",
     "text": [
      "<class 'pandas.core.frame.DataFrame'>\n",
      "RangeIndex: 319662 entries, 0 to 319661\n",
      "Data columns (total 7 columns):\n",
      " #   Column     Non-Null Count   Dtype \n",
      "---  ------     --------------   ----- \n",
      " 0   url        319662 non-null  object\n",
      " 1   idvscore   316258 non-null  object\n",
      " 2   reviewer   316255 non-null  object\n",
      " 3   dateP      316249 non-null  object\n",
      " 4   Rev        316249 non-null  object\n",
      " 5   thumbsUp   316082 non-null  object\n",
      " 6   thumbsTot  316086 non-null  object\n",
      "dtypes: object(7)\n",
      "memory usage: 17.1+ MB\n"
     ]
    }
   ],
   "source": [
    "user_reviews.info()"
   ]
  },
  {
   "cell_type": "code",
   "execution_count": 6,
   "metadata": {},
   "outputs": [
    {
     "data": {
      "text/html": [
       "<div>\n",
       "<style scoped>\n",
       "    .dataframe tbody tr th:only-of-type {\n",
       "        vertical-align: middle;\n",
       "    }\n",
       "\n",
       "    .dataframe tbody tr th {\n",
       "        vertical-align: top;\n",
       "    }\n",
       "\n",
       "    .dataframe thead th {\n",
       "        text-align: right;\n",
       "    }\n",
       "</style>\n",
       "<table border=\"1\" class=\"dataframe\">\n",
       "  <thead>\n",
       "    <tr style=\"text-align: right;\">\n",
       "      <th></th>\n",
       "      <th>url</th>\n",
       "      <th>idvscore</th>\n",
       "      <th>reviewer</th>\n",
       "      <th>dateP</th>\n",
       "      <th>Rev</th>\n",
       "      <th>thumbsUp</th>\n",
       "      <th>thumbsTot</th>\n",
       "    </tr>\n",
       "  </thead>\n",
       "  <tbody>\n",
       "    <tr>\n",
       "      <th>count</th>\n",
       "      <td>319662</td>\n",
       "      <td>316258</td>\n",
       "      <td>316255</td>\n",
       "      <td>316249</td>\n",
       "      <td>316249</td>\n",
       "      <td>316082</td>\n",
       "      <td>316086</td>\n",
       "    </tr>\n",
       "    <tr>\n",
       "      <th>unique</th>\n",
       "      <td>11364</td>\n",
       "      <td>16</td>\n",
       "      <td>106795</td>\n",
       "      <td>6489</td>\n",
       "      <td>311558</td>\n",
       "      <td>209</td>\n",
       "      <td>287</td>\n",
       "    </tr>\n",
       "    <tr>\n",
       "      <th>top</th>\n",
       "      <td>https://www.metacritic.com/movie/joker</td>\n",
       "      <td>10</td>\n",
       "      <td>'TVJerry'</td>\n",
       "      <td>'Mar 8, 2019'</td>\n",
       "      <td>''</td>\n",
       "      <td>0</td>\n",
       "      <td>0</td>\n",
       "    </tr>\n",
       "    <tr>\n",
       "      <th>freq</th>\n",
       "      <td>2764</td>\n",
       "      <td>74562</td>\n",
       "      <td>1626</td>\n",
       "      <td>878</td>\n",
       "      <td>773</td>\n",
       "      <td>197106</td>\n",
       "      <td>147659</td>\n",
       "    </tr>\n",
       "  </tbody>\n",
       "</table>\n",
       "</div>"
      ],
      "text/plain": [
       "                                           url  idvscore    reviewer  \\\n",
       "count                                   319662    316258      316255   \n",
       "unique                                   11364        16      106795   \n",
       "top     https://www.metacritic.com/movie/joker        10   'TVJerry'   \n",
       "freq                                      2764     74562        1626   \n",
       "\n",
       "                 dateP     Rev  thumbsUp  thumbsTot  \n",
       "count           316249  316249    316082     316086  \n",
       "unique            6489  311558       209        287  \n",
       "top      'Mar 8, 2019'      ''         0          0  \n",
       "freq               878     773    197106     147659  "
      ]
     },
     "execution_count": 6,
     "metadata": {},
     "output_type": "execute_result"
    }
   ],
   "source": [
    "# summary statistics of user reviews\n",
    "user_reviews.describe()"
   ]
  },
  {
   "cell_type": "code",
   "execution_count": 35,
   "metadata": {},
   "outputs": [
    {
     "data": {
      "text/plain": [
       "url             0\n",
       "idvscore     3404\n",
       "reviewer     3407\n",
       "dateP        3413\n",
       "Rev          3413\n",
       "thumbsUp     3580\n",
       "thumbsTot       0\n",
       "dtype: int64"
      ]
     },
     "execution_count": 35,
     "metadata": {},
     "output_type": "execute_result"
    }
   ],
   "source": [
    "# check for missing values user reviews\n",
    "user_reviews.isnull().sum()"
   ]
  },
  {
   "cell_type": "code",
   "execution_count": null,
   "metadata": {},
   "outputs": [
    {
     "name": "stdout",
     "output_type": "stream",
     "text": [
      "[2 1 0 3 nan 12 6 5 9 4 67 96 19 11 10 16 17 7 13 8 18 30 15 42 23 33 14\n",
      " 32 20 28 22 31 24 21 39 48 40 27 26 57 25 46 29 41 50 64 55 47 69 34 35\n",
      " 37 83 58 38 77 36 92 56 59 61 54 88 65 74 99 86 63 72 43 95 85 94 101 45\n",
      " 75 98 73 119 81 102 70 68 201 49 52 44 53 91 188 163 185 140 131 78 139\n",
      " 179 129 158 147 60 62 126 130 132 66 71 120 116 135 93 51 105 89 106 104\n",
      " 90 79 76 82 84 80 204 100 166\n",
      " ' 1}, {indvscore: 8, reviewer: AlbertP., date_published: Jul 13, 2009, review_text: Until last night, until Bruno, The Hangover was the funniest movie I, thumbs_up: 0, thumbs_total: 1}, {indvscore: 9, reviewer: StewartP, date_published: Jul 13, 2009, review_text: A very good satire that hits all the points, thumbs_up: 0, thumbs_total: 2}, {indvscore: 10, reviewer: KenG, date_published: Jul 14, 2009, review_text: Brilliant, hilarious, fearless, and insightful. A very worthy follow-up to Borat. If you (like some of the posters here) were bothered by the penis shots, and the gay sex scenes (although, the sex scenes are all staged), of course you Brilliant, hilarious, fearless, and insightful. A very worthy follow-up to Borat. If you (like some of the posters here) were bothered by the penis shots, and the gay sex scenes (although, the sex scenes are all staged), of course you didn t like this movie. You are one of the people the movie is making fun of. , thumbs_up: 0, thumbs_total: 1}, {indvscore: 10, reviewer: DaneilA, date_published: Jul 20, 2009, review_text: The funniest movie I have seen in a LONG time, including of course, Borat. That movie will get the praise, but the true cult movie classic is here., thumbs_up: 0, thumbs_total: 1}, {indvscore: 0, reviewer: JerryB, date_published: Jul 10, 2009, review_text: This was possibly the worst movie I have ever seen - there may have been one funny moment, but I don t recall it., thumbs_up: 0, thumbs_total: 1}, {indvscore: 1, reviewer: SamN., date_published: Dec 11, 2009, review_text: When I found out the amount of danger actor and crewman alike went through while making this movie, I was appalled. To think that so many people went through life and death situations to make this tasteless, unfunny mess of a film frustrates When I found out the amount of danger actor and crewman alike went through while making this movie, I was appalled. To think that so many people went through life and death situations to make this tasteless, unfunny mess of a film frustrates me. Had they put their lives at risk for something as funny as Borat, then that would be admirable. But Bruno isn t even an tenth as funny as Borat. Borat was crude, yes, but in an intelligent way that was handled with clever, well thought out writing. We got to see people go from oh, he s an odd fellow but I ll try to be accepting to get the Hell away from me you freak . That s funny. Bruno bombards you with the most repulsive crap over and over again. That s not. It does this so often that I became immune to it all and I was flat out bored by the end of the movie. , thumbs_up: 0, thumbs_total: 1}, {indvscore: 1, reviewer: lukechristiansc, date_published: Mar 7, 2014, review_text: borat was terrible now this are u kidding me this **** . i got a few laughs but this is wrost then hugo go watch the dicator instead this is not my fav film, thumbs_up: 0, thumbs_total: 2}, {indvscore: 5, reviewer: JuraM, date_published: Jul 28, 2009, review_text: A horribly disappointing return to the big screen for Baron Cohen after a fantastic gem named Borat. Bruno lives up to nor the fun or humour of it s predecessor. In all truth the character of Bruno just isn t as good as A horribly disappointing return to the big screen for Baron Cohen after a fantastic gem named Borat. Bruno lives up to nor the fun or humour of it s predecessor. In all truth the character of Bruno just isn t as good as Borat s, at all. As another reviewer points out Borat works because it s believable and Borat is likable. Bruno is neither. Often taking it slightly to far, relying on sheer shock value that has not as much effect as the long-lasting antics of Borat. And dare I say it, Borat actually had a good story, Bruno has 0. It may be slightly unfair to judge a movie by anothers standards but Borat raised the bar too high for this genre to live up to! , thumbs_up: 0, thumbs_total: 0}, {indvscore: 8, reviewer: EvinC, date_published: Aug 12, 2009, review_text: Funny and shocking. People have to realize it s just a Sacha Cohen comedy. Watch it if your comfortable with his kind of comedy. Made me laugh out loud. Maybe it might make you., thumbs_up: 0, thumbs_total: 0}, {indvscore: 8, reviewer: Dave, date_published: Aug 2, 2009, review_text: Jesus, people thought Borat was believable? It is a parody of our perception of Middle Easterners. This movie is a parody of our perception of gay men. I ll tell you what: I m a straight male. But I kinda hope that every movie for Jesus, people thought Borat was believable? It is a parody of our perception of Middle Easterners. This movie is a parody of our perception of gay men. I ll tell you what: I m a straight male. But I kinda hope that every movie for the foreseeable future throws a few naked penises on screen until homophobic guys get over themselves. , thumbs_up: 0, thumbs_total: 0}, {indvscore: 9, reviewer: Range41, date_published: Jul 11, 2009, review_text: Really outrageous! I agree this wasn t as good as Borat in terms of the targets of ridicule being more obvious, and having more parts that felt really staged. However, the movie had me and the whole theater in stitches.... and the last Really outrageous! I agree this wasn t as good as Borat in terms of the targets of ridicule being more obvious, and having more parts that felt really staged. However, the movie had me and the whole theater in stitches.... and the last big scene (the wrestling scene) was both funny and extremely disturbing/poignant all at the same time. Only Cohen can have you in tears both from laughing and sadness for our culture at the same time. , thumbs_up: 0, thumbs_total: 0}, {indvscore: 10, reviewer: MrSensible, date_published: Jul 11, 2009, review_text: Crude - yes. Random - yes. But it is pure comedy genius. I have not laughed like that since. well, Borat., thumbs_up: 0, thumbs_total: 0}, {indvscore: 10, reviewer: AaronD., date_published: Jul 11, 2009, review_text: If you go to see this movie without realizing it s about a gay man or without realizing it s made by SBC, you don t deserve to give it a rating. Of course there is talk of anal sex, oral sex, and dildos. If you didn t If you go to see this movie without realizing it s about a gay man or without realizing it s made by SBC, you don t deserve to give it a rating. Of course there is talk of anal sex, oral sex, and dildos. If you didn t know that, you should have left less than 15 minutes after the movie started... Those who stay after that will give it a 10! , thumbs_up: 0, thumbs_total: 0}, {indvscore: 10, reviewer: SamanthaS, date_published: Jul 10, 2009, review_text: I just saw the movie and it was very inappropriate.It had humor that was stupid yet Sacha Baron Cohen is a man who is funny. I just really enjoyed it. Stupid yet very smart., thumbs_up: 0, thumbs_total: 0}, {indvscore: 1, reviewer: JohnF., date_published: Jul 11, 2009, review_text: Dreary bad taste. A scant 82 minutes of skits with a central theme of anal sex and very dated stereotypical, effeminate, homosexual mannerisms., thumbs_up: 0, thumbs_total: 0}, {indvscore: 10, reviewer: StevenA., date_published: Jul 10, 2009, review_text: Are you kidding me?! This was absolutely hilarious! Never before has something so tasteless been so witty, intelligent, and downright hysterical all at once! While metascores indicate otherwise, this film was SO much more daring and Are you kidding me?! This was absolutely hilarious! Never before has something so tasteless been so witty, intelligent, and downright hysterical all at once! While metascores indicate otherwise, this film was SO much more daring and laugh-out-loud worthy than Borat, which I love! Needless to say, ignore the overall mediocre score, go see it, and laugh until it hurts! , thumbs_up: 0, thumbs_total: 0}, {indvscore: 10, reviewer: ShaunM., date_published: Jul 10, 2009, review_text: Incredibly intelligent and extremely offensive and disturbing. Those who hate it don t get it., thumbs_up: 0, thumbs_total: 0}, {indvscore: 7, reviewer: moonwaffle6, date_published: Jul 10, 2009, review_text: This movie is exhausting in its inconsistency and cruelty. the character bruno is more obnoxious, lewder, and his racial satire is more cringe-inducing than borat. as for the movie itself, it bounces from brilliance to hilarious awkwardness,This movie is exhausting in its inconsistency and cruelty. the character bruno is more obnoxious, lewder, and his racial satire is more cringe-inducing than borat. as for the movie itself, it bounces from brilliance to hilarious awkwardness, to just plain awful scenes that fail on all accounts. All that being said, i still loved it. Just be prepared for less cleverness and more shock value this time around. , thumbs_up: 0, thumbs_total: 0}, {indvscore: 10, reviewer: RyanO, date_published: Jul 10, 2009, review_text: Like a bull ride from hell; people could not handle it because it was too wild. This movie pushed the limits of mental prejudice well beyond anything ever before tried. Bruno reveals prejudice in viewers by attempting to offend you as much Like a bull ride from hell; people could not handle it because it was too wild. This movie pushed the limits of mental prejudice well beyond anything ever before tried. Bruno reveals prejudice in viewers by attempting to offend you as much as possible. If you were offended than the movies purpose was successful. If you were not you were able to see the hilarity that ensued on screen. , thumbs_up: 0, thumbs_total: 0}, {indvscore: 0, reviewer: AndrewR, date_published: Jul 12, 2009, review_text: To me, Borat was a huge laughfest, so I gave Bruno a try although the trailer looked pretty poor. The movie was a complete flop, hardly anyone in the theater was laughing at anything. Granted one or two moments got a laugh out of me, but To me, Borat was a huge laughfest, so I gave Bruno a try although the trailer looked pretty poor. The movie was a complete flop, hardly anyone in the theater was laughing at anything. Granted one or two moments got a laugh out of me, but trust me, I loved Borat, but Bruno should definitely be avoided at all costs. , thumbs_up: 0, thumbs_total: 0}, {indvscore: 1, reviewer: konnorM, date_published: Jul 13, 2009, review_text: This is one of the worst movies I have ever seen. It is boring and pathetic...the only part at I laughed at was when the hole of his cock barked Bruno. The rest was downhill., thumbs_up: 0, thumbs_total: 0}, {indvscore: 7, reviewer: eg, date_published: Jul 13, 2009, review_text: It had its funny parts, I give it that. In my opinion it was too short, and some of the stuff was just dumb. I did laugh alot, and enjoyed seeing it, so i give it a 7., thumbs_up: 0, thumbs_total: 0}, {indvscore: 10, reviewer: MikeD, date_published: Jul 13, 2009, review_text: This movie is definitely the funniest movie so far this year. Gut busting, laugh out loud hilarity! Certain segments of the population won t get it (midwest conservatives, I m talking to you) but the rest will laugh their heads This movie is definitely the funniest movie so far this year. Gut busting, laugh out loud hilarity! Certain segments of the population won t get it (midwest conservatives, I m talking to you) but the rest will laugh their heads off. Basically, you will either love this movie or leave 20 minutes into it. , thumbs_up: 0, thumbs_total: 0}, {indvscore: 2, reviewer: AV, date_published: Jul 13, 2009, review_text: Only reason i rated this a 2 is because that is how many times i laughed. this was definitely no borat (at least Borat had a balance of funny and vulgar comedy)., thumbs_up: 0, thumbs_total: 0}, {indvscore: 9, reviewer: LeviH, date_published: Jul 15, 2009, review_text: Like Borat before it, this movie was designed with the complete discomfort of the audience in mind. Also like Borat, you aren t going to believe some of the things you hear human beings saying or see them doing, not least of all the Like Borat before it, this movie was designed with the complete discomfort of the audience in mind. Also like Borat, you aren t going to believe some of the things you hear human beings saying or see them doing, not least of all the title character. There were, in fact, quite a few moments in this movie where I feared for Sacha Baron Cohen s safety. He is a man with serious balls, and this film is a must see so long as you don t mind actually viewing those balls. , thumbs_up: 0, thumbs_total: 0}, {indvscore: 9, reviewer: DavidH., date_published: Jul 10, 2009, review_text: The less said the better, absolutely hilarious., thumbs_up: 0, thumbs_total: 0}, {indvscore: 1, reviewer: SpungoM, date_published: Jul 16, 2009, review_text: Felt like a really bad 1990 s Lorn Michaels film. In other words, a 5 minute SNL skit stretched into an 83 minute movie. The Bruno character was by far the weakest on Da Ali G Show, so no surprises that a Bruno movie would be so horrible., thumbs_up: 0, thumbs_total: 0}, {indvscore: 10, reviewer: AndrewG, date_published: Jul 16, 2009, review_text: Despite the 10 rating, this is not a perfect film -- parts of it drag and some of it falls flat -- 0theless, the parts that work are so outrageously funny and dead on in their lampooning of celebrity culture, homophobia, and sheer human Despite the 10 rating, this is not a perfect film -- parts of it drag and some of it falls flat -- 0theless, the parts that work are so outrageously funny and dead on in their lampooning of celebrity culture, homophobia, and sheer human stupidity that it deserves top rating -- if only for the Man Slammin finale. , thumbs_up: 0, thumbs_total: 0}, {indvscore: 7, reviewer: MattK., date_published: Jul 16, 2009, review_text: A really funny movie with great shticks and one-liners, unfortunately the gay fanfare was just over the top and nearly had me questioning my own sexuality., thumbs_up: 0, thumbs_total: 0}, {indvscore: 6, reviewer: LuisG, date_published: Jul 16, 2009, review_text: The shock is there yet with less merit than BORAT most scenes feel clustered together and leave you with no real value except shock. Yes America is still intolerant but it really gives no help to the cause pure capitalism on Americas lack ofThe shock is there yet with less merit than BORAT most scenes feel clustered together and leave you with no real value except shock. Yes America is still intolerant but it really gives no help to the cause pure capitalism on Americas lack of coherence to how narcissistic and desperate to be in control. , thumbs_up: 0, thumbs_total: 0}, {indvscore: 10, reviewer: ManuelQ., date_published: Jul 16, 2009, review_text: Simply: is the best comedian film I ve seen in my life., thumbs_up: 0, thumbs_total: 0}, {indvscore: 9, reviewer: KubaS, date_published: Jul 17, 2009, review_text: Not as good as Borat, it s still top act from Cohen. Yes, it s stupid. No, it doesn t make you think. It makes you laugh though., thumbs_up: 0, thumbs_total: 0}, {indvscore: 8, reviewer: AlexB, date_published: Jul 10, 2009, review_text: Although it lacks a real storyline the film had the entire theatre in stitches from start to finish. At times crude, rude and outlandish, this is a proud sequel to Borat which set the bar incredibly high. Obviously as a result of Although it lacks a real storyline the film had the entire theatre in stitches from start to finish. At times crude, rude and outlandish, this is a proud sequel to Borat which set the bar incredibly high. Obviously as a result of this, the film does cross far more boundaries then Borat, but in doing so strikes up some comedy brass, not quite gold, but it looks the same and has the same effect. , thumbs_up: 0, thumbs_total: 0}, {indvscore: 8, reviewer: LarsK., date_published: Jul 19, 2009, review_text: Not equal to Borat in terms of quality but still far better than any Hollywood-Comedy-Movie in recent years. Br no infiltrates the american (sub)culture to stimulate your laugh muscles with unforgettable scenes and I bet even Not equal to Borat in terms of quality but still far better than any Hollywood-Comedy-Movie in recent years. Br no infiltrates the american (sub)culture to stimulate your laugh muscles with unforgettable scenes and I bet even homosexuals will giggle one or two times. Br nos appearance is totaly cute and loveable you cant be mad at this guy. So all of you puffy patriots raise your hands to the brave new Fuhrer, ja!?! Hail Bruno. , thumbs_up: 0, thumbs_total: 0}, {indvscore: 9, reviewer: majoy., date_published: Jul 20, 2009, review_text: I can t believe the negative reviews. I saw this and Borat within the first 10 days they came out and had little interest really in both. Borat was good, funny, some gross, but a bit long for me....didn t inspire me to want to see I can t believe the negative reviews. I saw this and Borat within the first 10 days they came out and had little interest really in both. Borat was good, funny, some gross, but a bit long for me....didn t inspire me to want to see Bruno.... But as things go, friends were going, and so I went along, with little excitement because I saw some of the negative reviews. But Bruno was sensationally funny, way over the top, had several moments where you couldn t watch, but were laughing ridiculously hard as yuo closed your eyes. Bruno totally plays on the whole accept everyone mentality of the USA and yet really can t except the gays....I mean Sacha Baren Cohen is a comedic genius. I am not going to give anything away, and advise folks not to read too much before seeing it. But there wasn t really a bad moment at all in this entire movie. From start to finish it was a total laugh riot. The Pros: get ready to laugh really hard at this surprisingly intellectual gross out movie....the jokes are a mile a minute and told mostly all straight, but the grand joke of prejudice is felt at the end. Cohen does a remarkable job in both characters (Bruno and his alt ego at the end of the movie). There s not a movie like this that really has ever been made (this made Borat seem very very tame). Cons: Well I don t know if I could watch this again....there were some really cringe moments. But this was an absolutely great movie 0theless. I m surprised it got only an R rating though, definitely not for kids really under 17.... I am excited to see what else Mr. Cohen has up his sleeves in future years. , thumbs_up: 0, thumbs_total: 0}, {indvscore: 7, reviewer: HyperS, date_published: Jul 21, 2009, review_text: Its crude. Extremely sexual in nature. And I would imagine quite offensive to the homosexual community.. But, it was funny... and time seemed to fly by. Jackass & Bruno... same level of humor... like one you d probably like the other. Its crude. Extremely sexual in nature. And I would imagine quite offensive to the homosexual community.. But, it was funny... and time seemed to fly by. Jackass & Bruno... same level of humor... like one you d probably like the other. Just remember. Kids don t go with your parents. Parents don t go with your kids. Would make for an extremely embarrassing and life scaring event (poor 14 year old going with grandma/grandpa. Poor 14 year old going period. ITS FOR ADULTS!). , thumbs_up: 0, thumbs_total: 0}, {indvscore: 6, reviewer: MichaelB., date_published: Jul 21, 2009, review_text: It wasn t horrible, but after a while, I felt like watching Borat again. Plus, it seemed that many scenes were staged unlike Borat, where it all looked unscripted. Not that bad overall though., thumbs_up: 0, thumbs_total: 0}, {indvscore: 0, reviewer: JillianT., date_published: Jul 23, 2009, review_text: I liked da ali g show and borat but this was awful... dumb humor, vile antics, stupid storyline (why is there even a storyline? it would have been better without one)., thumbs_up: 0, thumbs_total: 0}, {indvscore: 10, reviewer: Magik300, date_published: Aug 13, 2009, review_text: I ve just seen trailer, but I have so much fun over two minutes that I didn t have in years., thumbs_up: 0, thumbs_total: 0}, {indvscore: 9, reviewer: ZacH, date_published: Aug 3, 2009, review_text: I thought Bruno was fantastic i would give it a ten but i thought it was too short and i am a perfectly straight man but i must say the beginning is very graphic., thumbs_up: 0, thumbs_total: 0}, {indvscore: 4, reviewer: BrettW, date_published: Aug 3, 2009, review_text: Not a very good movie. There are one or two outrageously funny moments but other than that there isn t much to make you belly-laugh. I enjoy awkward shock humor when it works but a lot of it in this movie doesn t work. It may be Not a very good movie. There are one or two outrageously funny moments but other than that there isn t much to make you belly-laugh. I enjoy awkward shock humor when it works but a lot of it in this movie doesn t work. It may be worth renting this movie to watch with your friends, but save your money and don t see it in theaters. Oh and the people who are giving the film a 0 and saying you have to be gay to enjoy the movie, are exactly the type of people this movie was trying to make fun of. I haven t seen anything in my entire life that has offended me enough to say the things that angie a and alisha k are saying. Grow up and get used to seeing things that offend you. And stop bit**ing about it. , thumbs_up: 0, thumbs_total: 0}, {indvscore: 9, reviewer: JamesV, date_published: Aug 7, 2009, review_text: Anything that pokes fun at the large percentage of ignorant yanks is fine by me. Reading some of the other comments on here makes me think that they saw a little to much of themselves in some of the interviewees/UFC crowds to find it funny. Anything that pokes fun at the large percentage of ignorant yanks is fine by me. Reading some of the other comments on here makes me think that they saw a little to much of themselves in some of the interviewees/UFC crowds to find it funny. A vicious assault on middle America, a fine place to commence the attack. , thumbs_up: 0, thumbs_total: 0}, {indvscore: 9, reviewer: MattF, date_published: Aug 9, 2009, review_text: WOW, it s crude, its racist, it extreme, its Bruno. I loved it, though its hit or miss if you like crude and racist or gay jokes for shock value you ll love it, but don t give it a bad rating if it s not your thing or if WOW, it s crude, its racist, it extreme, its Bruno. I loved it, though its hit or miss if you like crude and racist or gay jokes for shock value you ll love it, but don t give it a bad rating if it s not your thing or if you find it over the top its an all around good plot amazing improv and it makes fun of almost everyone from me 2 thumbs up 4.5 of 5 stars. , thumbs_up: 0, thumbs_total: 0}, {indvscore: 0, reviewer: CalebG, date_published: Jan 18, 2010, review_text: I usually force myself to finish all movies and books, no matter how bad, but I walked out of this movie. Such a disappointment compared to Borat. I give it a 0/10 because I actually asked for my money back., thumbs_up: 0, thumbs_total: 0}, {indvscore: 10, reviewer: roland, date_published: Dec 4, 2009, review_text: This is visceral satire at its very best. Jonathon Swift on benzedrine. My lungs ached as Bruno lurched from one target to the next. Wise, hilarious and with a moral highway wide enough for a supersize rampant rabbit and a bit more. Not very This is visceral satire at its very best. Jonathon Swift on benzedrine. My lungs ached as Bruno lurched from one target to the next. Wise, hilarious and with a moral highway wide enough for a supersize rampant rabbit and a bit more. Not very straight and not very narrow but a work of comic genius and thrusting, ball-busting integrity. , thumbs_up: 0, thumbs_total: 0}, {indvscore: 0, reviewer: Darren, date_published: Dec 7, 2009, review_text: Complete waste of money. I turned it off part way through since it was such a waste of time., thumbs_up: 0, thumbs_total: 0}, {indvscore: 1, reviewer: TannerP., date_published: Jul 11, 2009, review_text: If you like watching homosexual porno, then this movie is for you. Most of the laughter that ensued during the movie was out of pure disgust and WTF!? I can t believe they put this in a movie moments. The few genuinely funny moments If you like watching homosexual porno, then this movie is for you. Most of the laughter that ensued during the movie was out of pure disgust and WTF!? I can t believe they put this in a movie moments. The few genuinely funny moments are outweighed heavily by the cringe worthy moments. The worst movie I have laid my eyes on. , thumbs_up: 0, thumbs_total: 0}, {indvscore: 9, reviewer: JohnS., date_published: Jul 11, 2009, review_text: Don t go see this movie if you re easily offended or insecure about your sexuality. If you like Sacha Baron Cohen and can see the bottom line of this films goals, you will enjoy it. Also be prepared to see some male genitalia, it Don t go see this movie if you re easily offended or insecure about your sexuality. If you like Sacha Baron Cohen and can see the bottom line of this films goals, you will enjoy it. Also be prepared to see some male genitalia, it will probably catch you off guard. , thumbs_up: 0, thumbs_total: 0}, {indvscore: 5, reviewer: PeterO., date_published: Jul 11, 2009, review_text: Bruno is a poor follow-up to Borat. It does contain some funny clips and moments, but they are heavily overshadowed by shocking and disgusting sex scenes, some including anal sex and other gay endeavours. This seems to be a movie that you Bruno is a poor follow-up to Borat. It does contain some funny clips and moments, but they are heavily overshadowed by shocking and disgusting sex scenes, some including anal sex and other gay endeavours. This seems to be a movie that you either love or hate so I recommend that you see it for yourself and make your own final decision. 5/10. , thumbs_up: 0, thumbs_total: 0}, {indvscore: 10, reviewer: AlyE., date_published: Jul 11, 2009, review_text: This is a mockumentary people! It s not supposed to make sense or tell a story, rather its purpose is to use satire to highlight other people s stupidity, desperation, racism, and homophobia. The beauty is that SBC exposes This is a mockumentary people! It s not supposed to make sense or tell a story, rather its purpose is to use satire to highlight other people s stupidity, desperation, racism, and homophobia. The beauty is that SBC exposes ignorance by pushing the envelope to threaten people s composure and hit nerves. That the people are clueless that he s not a real person, is what makes his antics that much more effective and hilarious. Yes, the movie is highly offensive, vulgar, crude, and shocking, but I loved it for those very reasons, and above all, because it was unpredictable-- I had no idea what would happen next. If you d rather watch a lame, boring, safe, cliche, politically correct movie that you can figure out after the first half hour, then of course you d absolutely hate Bruno. For the rest of us who want to see something different on the silver screen, Bruno is a refreshing and memorable deviation from the norm. , thumbs_up: 0, thumbs_total: 0}, {indvscore: 8, reviewer: SteveG., date_published: Jul 11, 2009, review_text: It is not nearly as good or consistently funny as Borat. But Bruno has its share of amazing moments. From attempting to seduce both a former presidential candidate and a cast member from Deliverance to the adoption running gag -- Bruno is It is not nearly as good or consistently funny as Borat. But Bruno has its share of amazing moments. From attempting to seduce both a former presidential candidate and a cast member from Deliverance to the adoption running gag -- Bruno is over the top and visceral. It is not for everybody though. , thumbs_up: 0, thumbs_total: 0}, {indvscore: 10, reviewer: PF, date_published: Jul 11, 2009, review_text: The TN crowd I saw it with screamed in horror and then laughed until their sides hurt from beginning to end. I feel like my head was used in a volleyball game. Much funnier than Borat, a masterpiece. Rating should be NC-17, not appropriate The TN crowd I saw it with screamed in horror and then laughed until their sides hurt from beginning to end. I feel like my head was used in a volleyball game. Much funnier than Borat, a masterpiece. Rating should be NC-17, not appropriate for anyone under 17 due to severe content. , thumbs_up: 0, thumbs_total: 0}, {indvscore: 0, reviewer: Philip, date_published: Jul 11, 2009, review_text: Avoid this movie! It s nothing like Borat, it s more like a gay porno... In fact, it could put most of those to shame. Saying this movie is 99% debauchery isn t an opinion, it s a fact. The very few laughs won t stop Avoid this movie! It s nothing like Borat, it s more like a gay porno... In fact, it could put most of those to shame. Saying this movie is 99% debauchery isn t an opinion, it s a fact. The very few laughs won t stop you from feeling violated after cringing through this filth. , thumbs_up: 0, thumbs_total: 0}, {indvscore: 10, reviewer: ChadS., date_published: Jul 11, 2009, review_text: At any given moment, unflappable you, cerebral you, the you who laughed without apology throughout Borat, is bound to be disconcerted by the lengths that the comedian/performance artist will go for a laugh. Always an equal opportunity At any given moment, unflappable you, cerebral you, the you who laughed without apology throughout Borat, is bound to be disconcerted by the lengths that the comedian/performance artist will go for a laugh. Always an equal opportunity offender, Sacha Baron Cohen, trying on his latest outsider naif persona, an Austrian male model named Bruno, arrives stateside(like his Kazakhstanian predecessor with the gray suit) to disclose the ugly truth about American people. With some heavy-duty instigating, however unfair, Cohen gets to the core of plain old folks sensibilities towards race and sexual orientation, quite brilliantly, in typical gonzo style, at the taping of a daytime talk-show where a pre-dominantly African-American audience expresses their disapproval towards Bruno for adopting one of their own. Oblivious to the minefield that lays ahead of him, in this scene, Cohen actually has the balls to set the gay agenda back, since Bruno shouldn t be anywhere near a child, while simultaneously presenting black people as hypocrites for denying homosexuals their civil rights. Sure, the Eurotrash fashionista provokes the studio crowd with some outlandish race-baiting, but they boo him before his racist provocations. The breadth of Cohen s madcap chutzpah will set off explosions in your summer blockbuster-addled head. Supporting gay rights with Bruno as its criterion is like being a Two Live Crew advocate during the eighties when Tipper Gore and the PMRC went after the misogynistic rappers. Cohen, who is Jewish, with his talent for getting unaware subjects to say the darnedest things, ironically(because of the anti-Semitic streak in Borat), evokes documentarian Claude Lanzman, whose dishonest interviewing techniques in Shoah, got SS officers to talk openly about the Holocaust. On a different scale from processing Jews for liquidation, but shocking in its own right, Cohen captures on film, a showbiz mother willing to cast her baby as a Nazi officer who pushes another infant, a representational concentration camper, into an oven. Political correctness(supporting gay rights) collides'\n",
      " ' drink every time you hear the word Dinkus (or see David Koechner s nosy neighbor approach or hear him say the thing is). And Matt Schulze s character s bong hit insistence provides the necessary reinforcement for this conspiracy theory. OK, with that revelation bouncin around my noggin , I guess I ll have to award a postmodern bonus point (and hey Affleck+Wiig were appropriately ambivalent) . . . and so I ll actually rate the movie a 4: C- - -. Huh-huh. Umm . . . . yeah. , thumbs_up: 0, thumbs_total: 0'\n",
      " 253 124 127 182 133 197 97 137 154 150 128 149 148 146 103 144 142 141\n",
      " 138 156 117 155 173 134 153 152 114 151 113 111 110 162 108 161 143 125\n",
      " 107 160 159 123 122 87 121 189 136 169 177 240 181 170 180 171 195 178\n",
      " 112 115 109 118 172 225 211 466 429 384 393 231 297 293 295 243 250 254\n",
      " 232 317 206 222 212 175 167 165 174 192 145 833 219 215 244 199 410 229\n",
      " 348\n",
      " ' the Force Awakens. 7. I loved this movie to the core, it s heart-breaking and hope-bringing. The third act will BLOW- YOUR MIND. 8. Darth Vader OMFG he is damn terrifying. Princess Leia is CGI of the younger version. In the end when they ask what is this ? while giving the chip.She replies HOPE. SNAP END CREDITS. GOOSEBUMPS.VERDICT: Go, watch it, Irony I walked all the way to my home from the stop chanting I am the force, and the force is with me you ll get the reference after the watch. Way Way better than Star Wars VII. I loved it to the core , thumbs_up: 5, thumbs_total: 11'\n",
      " 294 223 258 372 255 300 263 271 275 365 168 221 315 184 290 196 355 416\n",
      " 208 216 183 187 191 203 292 186 190 303 210 193 164 278 262 213 209 205\n",
      " 200 218 807 224 267 242 217 245 252 387 291 233 214 235 157 194 202 238\n",
      " 287 1422 264 220 207 257 234 246 247 176 327 375\n",
      " ' http://jonnyfendi.blogspot.com , thumbs_up: 0, thumbs_total: 0'\n",
      " ' http://jonnyfendi.blogspot.com , thumbs_up: 0, thumbs_total: 1'\n",
      " ';;:;:;:;:;:;$$$$$$$$$$ , thumbs_up: 0, thumbs_total: 0']\n"
     ]
    }
   ],
   "source": [
    "# checking the unique values in 'thumbsTot' column\n",
    "print(user_reviews['thumbsTot'].unique())"
   ]
  },
  {
   "cell_type": "markdown",
   "metadata": {},
   "source": [
    "The column 'thumbsTot' contains multiple non-numeric values (e.g. links, misplaced reviews and their metadata, etc). To fix this, the non-numeric values will be converted to NaN values and the rows will be dropped.\n",
    "\n",
    "However, first we will converted the existing NaN values to 0 to avoid dropping useful columns with the rows that contain non-numeric data."
   ]
  },
  {
   "cell_type": "code",
   "execution_count": 16,
   "metadata": {},
   "outputs": [
    {
     "name": "stdout",
     "output_type": "stream",
     "text": [
      "0         2.0\n",
      "1         1.0\n",
      "2         1.0\n",
      "3         1.0\n",
      "4         0.0\n",
      "         ... \n",
      "319657    0.0\n",
      "319658    0.0\n",
      "319659    0.0\n",
      "319660    0.0\n",
      "319661    0.0\n",
      "Name: thumbsTot, Length: 319662, dtype: float64\n"
     ]
    },
    {
     "name": "stderr",
     "output_type": "stream",
     "text": [
      "C:\\Users\\vanee\\AppData\\Local\\Temp\\ipykernel_13628\\2578644303.py:2: FutureWarning: A value is trying to be set on a copy of a DataFrame or Series through chained assignment using an inplace method.\n",
      "The behavior will change in pandas 3.0. This inplace method will never work because the intermediate object on which we are setting values always behaves as a copy.\n",
      "\n",
      "For example, when doing 'df[col].method(value, inplace=True)', try using 'df.method({col: value}, inplace=True)' or df[col] = df[col].method(value) instead, to perform the operation inplace on the original object.\n",
      "\n",
      "\n",
      "  user_reviews['thumbsTot'].fillna(0, inplace=True)\n"
     ]
    }
   ],
   "source": [
    "# replace existing NaN values with 0\n",
    "user_reviews['thumbsTot'].fillna(0, inplace=True)\n",
    "\n",
    "# converting non-numeric values to NaN\n",
    "user_reviews['thumbsTot'] = pd.to_numeric(user_reviews['thumbsTot'], errors='coerce')\n",
    "\n",
    "# dropping  rows with the invalid non-numeric NaN\n",
    "user_reviews.dropna(subset=['thumbsTot'])\n",
    "\n",
    "# print the result\n",
    "print(user_reviews['thumbsTot'])"
   ]
  },
  {
   "cell_type": "code",
   "execution_count": 12,
   "metadata": {},
   "outputs": [
    {
     "name": "stdout",
     "output_type": "stream",
     "text": [
      "[np.float64(0.0), np.float64(1.0), np.float64(2.0), np.float64(3.0), np.float64(4.0), np.float64(5.0), np.float64(6.0), np.float64(7.0), np.float64(8.0), np.float64(9.0), np.float64(10.0), np.float64(11.0), np.float64(12.0), np.float64(13.0), np.float64(14.0), np.float64(15.0), np.float64(16.0), np.float64(17.0), np.float64(18.0), np.float64(19.0), np.float64(20.0), np.float64(21.0), np.float64(22.0), np.float64(23.0), np.float64(24.0), np.float64(25.0), np.float64(26.0), np.float64(27.0), np.float64(28.0), np.float64(29.0), np.float64(30.0), np.float64(31.0), np.float64(32.0), np.float64(33.0), np.float64(34.0), np.float64(35.0), np.float64(36.0), np.float64(37.0), np.float64(38.0), np.float64(39.0), np.float64(40.0), np.float64(41.0), np.float64(42.0), np.float64(43.0), np.float64(44.0), np.float64(45.0), np.float64(46.0), np.float64(47.0), np.float64(48.0), np.float64(49.0), np.float64(50.0), np.float64(51.0), np.float64(52.0), np.float64(53.0), np.float64(54.0), np.float64(55.0), np.float64(56.0), np.float64(57.0), np.float64(58.0), np.float64(59.0), np.float64(60.0), np.float64(61.0), np.float64(62.0), np.float64(63.0), np.float64(64.0), np.float64(65.0), np.float64(66.0), np.float64(67.0), np.float64(68.0), np.float64(69.0), np.float64(70.0), np.float64(71.0), np.float64(72.0), np.float64(73.0), np.float64(74.0), np.float64(75.0), np.float64(76.0), np.float64(77.0), np.float64(78.0), np.float64(79.0), np.float64(80.0), np.float64(81.0), np.float64(82.0), np.float64(83.0), np.float64(84.0), np.float64(85.0), np.float64(86.0), np.float64(87.0), np.float64(88.0), np.float64(89.0), np.float64(90.0), np.float64(91.0), np.float64(92.0), np.float64(93.0), np.float64(94.0), np.float64(95.0), np.float64(96.0), np.float64(97.0), np.float64(98.0), np.float64(99.0), np.float64(100.0), np.float64(101.0), np.float64(102.0), np.float64(103.0), np.float64(104.0), np.float64(105.0), np.float64(106.0), np.float64(107.0), np.float64(108.0), np.float64(109.0), np.float64(110.0), np.float64(111.0), np.float64(112.0), np.float64(113.0), np.float64(114.0), np.float64(115.0), np.float64(116.0), np.float64(117.0), np.float64(118.0), np.float64(119.0), np.float64(120.0), np.float64(121.0), np.float64(122.0), np.float64(123.0), np.float64(124.0), np.float64(125.0), np.float64(126.0), np.float64(127.0), np.float64(128.0), np.float64(129.0), np.float64(130.0), np.float64(131.0), np.float64(132.0), np.float64(133.0), np.float64(134.0), np.float64(135.0), np.float64(136.0), np.float64(137.0), np.float64(138.0), np.float64(139.0), np.float64(140.0), np.float64(141.0), np.float64(142.0), np.float64(143.0), np.float64(144.0), np.float64(145.0), np.float64(146.0), np.float64(147.0), np.float64(148.0), np.float64(149.0), np.float64(150.0), np.float64(151.0), np.float64(152.0), np.float64(153.0), np.float64(154.0), np.float64(155.0), np.float64(156.0), np.float64(157.0), np.float64(158.0), np.float64(159.0), np.float64(160.0), np.float64(161.0), np.float64(162.0), np.float64(163.0), np.float64(164.0), np.float64(165.0), np.float64(166.0), np.float64(167.0), np.float64(168.0), np.float64(169.0), np.float64(170.0), np.float64(171.0), np.float64(172.0), np.float64(173.0), np.float64(174.0), np.float64(175.0), np.float64(176.0), np.float64(177.0), np.float64(178.0), np.float64(179.0), np.float64(180.0), np.float64(181.0), np.float64(182.0), np.float64(183.0), np.float64(184.0), np.float64(185.0), np.float64(186.0), np.float64(187.0), np.float64(188.0), np.float64(189.0), np.float64(190.0), np.float64(191.0), np.float64(192.0), np.float64(193.0), np.float64(194.0), np.float64(195.0), np.float64(196.0), np.float64(197.0), np.float64(199.0), np.float64(200.0), np.float64(201.0), np.float64(202.0), np.float64(203.0), np.float64(204.0), np.float64(205.0), np.float64(206.0), np.float64(207.0), np.float64(208.0), np.float64(209.0), np.float64(210.0), np.float64(211.0), np.float64(212.0), np.float64(213.0), np.float64(214.0), np.float64(215.0), np.float64(216.0), np.float64(217.0), np.float64(218.0), np.float64(219.0), np.float64(220.0), np.float64(221.0), np.float64(222.0), np.float64(223.0), np.float64(224.0), np.float64(225.0), np.float64(229.0), np.float64(231.0), np.float64(232.0), np.float64(233.0), np.float64(234.0), np.float64(235.0), np.float64(238.0), np.float64(240.0), np.float64(242.0), np.float64(243.0), np.float64(244.0), np.float64(245.0), np.float64(246.0), np.float64(247.0), np.float64(250.0), np.float64(252.0), np.float64(253.0), np.float64(254.0), np.float64(255.0), np.float64(257.0), np.float64(258.0), np.float64(262.0), np.float64(263.0), np.float64(264.0), np.float64(267.0), np.float64(271.0), np.float64(275.0), np.float64(278.0), np.float64(287.0), np.float64(290.0), np.float64(291.0), np.float64(292.0), np.float64(293.0), np.float64(294.0), np.float64(295.0), np.float64(297.0), np.float64(300.0), np.float64(303.0), np.float64(315.0), np.float64(317.0), np.float64(327.0), np.float64(348.0), np.float64(355.0), np.float64(365.0), np.float64(372.0), np.float64(375.0), np.float64(384.0), np.float64(387.0), np.float64(393.0), np.float64(410.0), np.float64(416.0), np.float64(429.0), np.float64(466.0), np.float64(807.0), np.float64(833.0), np.float64(1422.0)]\n"
     ]
    }
   ],
   "source": [
    "unique_values = user_reviews['thumbsTot'].unique()\n",
    "print(sorted(unique_values))  # Sorted for better visualization"
   ]
  },
  {
   "cell_type": "code",
   "execution_count": 24,
   "metadata": {},
   "outputs": [
    {
     "name": "stdout",
     "output_type": "stream",
     "text": [
      "[<class 'float'>]\n",
      "count    319662.000000\n",
      "mean          4.173233\n",
      "std          13.438235\n",
      "min           0.000000\n",
      "25%           0.000000\n",
      "50%           1.000000\n",
      "75%           3.000000\n",
      "max        1422.000000\n",
      "Name: thumbsTot, dtype: float64\n"
     ]
    }
   ],
   "source": [
    "# checking that there are no strings left in the column\n",
    "print(user_reviews['thumbsTot'].apply(type).unique())\n",
    "\n",
    "# checking column statistics\n",
    "print(user_reviews['thumbsTot'].describe())"
   ]
  },
  {
   "cell_type": "code",
   "execution_count": null,
   "metadata": {},
   "outputs": [
    {
     "name": "stdout",
     "output_type": "stream",
     "text": [
      "All values in the column are integers.\n"
     ]
    }
   ],
   "source": [
    "# checking that all values are integers before converting to int64\n",
    "has_fractions = (user_reviews['thumbsTot'] % 1 != 0).any()\n",
    "\n",
    "if has_fractions:\n",
    "    print(\"There are non-integer values in the column.\")\n",
    "else:\n",
    "    print(\"All values in the column are integers.\")"
   ]
  },
  {
   "cell_type": "code",
   "execution_count": 25,
   "metadata": {},
   "outputs": [
    {
     "name": "stdout",
     "output_type": "stream",
     "text": [
      "int64\n"
     ]
    }
   ],
   "source": [
    "# converting column to int64\n",
    "user_reviews['thumbsTot'] = user_reviews['thumbsTot'].astype('int64')\n",
    "\n",
    "# verifying conversion\n",
    "print(user_reviews['thumbsTot'].dtype)"
   ]
  },
  {
   "cell_type": "code",
   "execution_count": null,
   "metadata": {},
   "outputs": [
    {
     "name": "stdout",
     "output_type": "stream",
     "text": [
      "[   2    1    0    3   12    6    5    9    4   67   96   19   11   10\n",
      "   16   17    7   13    8   18   30   15   42   23   33   14   32   20\n",
      "   28   22   31   24   21   39   48   40   27   26   57   25   46   29\n",
      "   41   50   64   55   47   69   34   35   37   83   58   38   77   36\n",
      "   92   56   59   61   54   88   65   74   99   86   63   72   43   95\n",
      "   85   94  101   45   75   98   73  119   81  102   70   68  201   49\n",
      "   52   44   53   91  188  163  185  140  131   78  139  179  129  158\n",
      "  147   60   62  126  130  132   66   71  120  116  135   93   51  105\n",
      "   89  106  104   90   79   76   82   84   80  204  100  166  253  124\n",
      "  127  182  133  197   97  137  154  150  128  149  148  146  103  144\n",
      "  142  141  138  156  117  155  173  134  153  152  114  151  113  111\n",
      "  110  162  108  161  143  125  107  160  159  123  122   87  121  189\n",
      "  136  169  177  240  181  170  180  171  195  178  112  115  109  118\n",
      "  172  225  211  466  429  384  393  231  297  293  295  243  250  254\n",
      "  232  317  206  222  212  175  167  165  174  192  145  833  219  215\n",
      "  244  199  410  229  348  294  223  258  372  255  300  263  271  275\n",
      "  365  168  221  315  184  290  196  355  416  208  216  183  187  191\n",
      "  203  292  186  190  303  210  193  164  278  262  213  209  205  200\n",
      "  218  807  224  267  242  217  245  252  387  291  233  214  235  157\n",
      "  194  202  238  287 1422  264  220  207  257  234  246  247  176  327\n",
      "  375]\n"
     ]
    }
   ],
   "source": [
    "# printing unique elements after type conversion\n",
    "print(user_reviews['thumbsTot'].unique())"
   ]
  },
  {
   "cell_type": "code",
   "execution_count": null,
   "metadata": {},
   "outputs": [
    {
     "name": "stdout",
     "output_type": "stream",
     "text": [
      "[<class 'int'> <class 'float'> <class 'str'>]\n"
     ]
    },
    {
     "data": {
      "text/plain": [
       "np.int64(3580)"
      ]
     },
     "execution_count": 38,
     "metadata": {},
     "output_type": "execute_result"
    }
   ],
   "source": [
    "# checking the datatypes in the column\n",
    "print(user_reviews['thumbsUp'].apply(type).unique())\n",
    "\n",
    "# check for null values in the column\n",
    "user_reviews['thumbsUp'].isnull().sum()"
   ]
  },
  {
   "cell_type": "code",
   "execution_count": 42,
   "metadata": {},
   "outputs": [
    {
     "name": "stdout",
     "output_type": "stream",
     "text": [
      "[2 0 1 3 11 4 6 48 18 5 7 14 8 10 19 23 15 13 12 30 9 20 27 22 16 50 17 41\n",
      " 52 44 37 54 26 24 28 33 56 25 21 34 47 31 32 53 45 49 42 35 38 43 64 39\n",
      " 29 46 102 87 98 74 69 73 94 67 82 76 65 68 36 60 58 51 40 202 78 55\n",
      " ' rock band dude caricature (oh wait' 196 71 81 166 108 59 129 147 143\n",
      " 122 142 121 141 140 100 80 139 79 118 137 97 135 96 134 133 95 57 113 150\n",
      " 75 131 93 130 148 111 92 110 164 91 127 145 144 126 90 72 125 107 89 124\n",
      " 123 88 105 70 104 154 153 119 85 152 101 151 84 117 83 116 132 115 114\n",
      " 178 128 159 62 77 61 120 149 146 66 215 175 189 86 335 295 298 222 216\n",
      " 176 181 183 167 228 138 106 99 63 165 186 184 103 227 200 285 193 199 205\n",
      " 208 276 238 281 219 268 314 157 163 220 226 207 158 155 112 156 194 562\n",
      " 136 160 109 171 241 198 287 214 170 341]\n"
     ]
    }
   ],
   "source": [
    "# printing unique elements 'thumbsUp'\n",
    "print(user_reviews['thumbsUp'].unique())"
   ]
  },
  {
   "cell_type": "markdown",
   "metadata": {},
   "source": [
    "Just like the previous 'thumbsTot' column, 'thumbsUp' also has more than one datatype."
   ]
  },
  {
   "cell_type": "code",
   "execution_count": 47,
   "metadata": {},
   "outputs": [
    {
     "name": "stdout",
     "output_type": "stream",
     "text": [
      "0         2.0\n",
      "1         0.0\n",
      "2         1.0\n",
      "3         0.0\n",
      "4         0.0\n",
      "         ... \n",
      "319657    0.0\n",
      "319658    0.0\n",
      "319659    0.0\n",
      "319660    0.0\n",
      "319661    0.0\n",
      "Name: thumbsUp, Length: 319662, dtype: float64\n"
     ]
    }
   ],
   "source": [
    "# replace existing NaN values with 0\n",
    "user_reviews['thumbsUp'].fillna(0, inplace=True)\n",
    "\n",
    "# converting non-numeric values to NaN\n",
    "user_reviews['thumbsUp'] = pd.to_numeric(user_reviews['thumbsUp'], errors='coerce')\n",
    "\n",
    "# dropping  rows with the invalid non-numeric NaN\n",
    "user_reviews.dropna(subset=['thumbsUp'], inplace=True)\n",
    "\n",
    "# print the result\n",
    "print(user_reviews['thumbsUp'])"
   ]
  },
  {
   "cell_type": "code",
   "execution_count": 48,
   "metadata": {},
   "outputs": [
    {
     "name": "stdout",
     "output_type": "stream",
     "text": [
      "[<class 'float'>]\n",
      "count    319662.000000\n",
      "mean          2.084808\n",
      "std           8.202692\n",
      "min           0.000000\n",
      "25%           0.000000\n",
      "50%           0.000000\n",
      "75%           1.000000\n",
      "max         562.000000\n",
      "Name: thumbsUp, dtype: float64\n"
     ]
    }
   ],
   "source": [
    "# checking that there are no strings left in the column\n",
    "print(user_reviews['thumbsUp'].apply(type).unique())\n",
    "\n",
    "# checking column statistics\n",
    "print(user_reviews['thumbsUp'].describe())"
   ]
  },
  {
   "cell_type": "code",
   "execution_count": 50,
   "metadata": {},
   "outputs": [
    {
     "name": "stdout",
     "output_type": "stream",
     "text": [
      "int64\n"
     ]
    }
   ],
   "source": [
    "# converting column to int64\n",
    "user_reviews['thumbsUp'] = user_reviews['thumbsUp'].astype('int64')\n",
    "\n",
    "# verifying conversion\n",
    "print(user_reviews['thumbsUp'].dtype)"
   ]
  },
  {
   "cell_type": "code",
   "execution_count": 51,
   "metadata": {},
   "outputs": [
    {
     "name": "stdout",
     "output_type": "stream",
     "text": [
      "[  2   0   1   3  11   4   6  48  18   5   7  14   8  10  19  23  15  13\n",
      "  12  30   9  20  27  22  16  50  17  41  52  44  37  54  26  24  28  33\n",
      "  56  25  21  34  47  31  32  53  45  49  42  35  38  43  64  39  29  46\n",
      " 102  87  98  74  69  73  94  67  82  76  65  68  36  60  58  51  40 202\n",
      "  78  55 196  71  81 166 108  59 129 147 143 122 142 121 141 140 100  80\n",
      " 139  79 118 137  97 135  96 134 133  95  57 113 150  75 131  93 130 148\n",
      " 111  92 110 164  91 127 145 144 126  90  72 125 107  89 124 123  88 105\n",
      "  70 104 154 153 119  85 152 101 151  84 117  83 116 132 115 114 178 128\n",
      " 159  62  77  61 120 149 146  66 215 175 189  86 335 295 298 222 216 176\n",
      " 181 183 167 228 138 106  99  63 165 186 184 103 227 200 285 193 199 205\n",
      " 208 276 238 281 219 268 314 157 163 220 226 207 158 155 112 156 194 562\n",
      " 136 160 109 171 241 198 287 214 170 341]\n"
     ]
    }
   ],
   "source": [
    "# printing unique elements after type conversion\n",
    "print(user_reviews['thumbsUp'].unique())"
   ]
  },
  {
   "cell_type": "code",
   "execution_count": 53,
   "metadata": {},
   "outputs": [
    {
     "data": {
      "text/plain": [
       "url             0\n",
       "idvscore     3404\n",
       "reviewer     3407\n",
       "dateP        3413\n",
       "Rev          3413\n",
       "thumbsUp        0\n",
       "thumbsTot       0\n",
       "dtype: int64"
      ]
     },
     "execution_count": 53,
     "metadata": {},
     "output_type": "execute_result"
    }
   ],
   "source": [
    "# intermediate check for missing values after cleaning previous columns\n",
    "user_reviews.isnull().sum()"
   ]
  },
  {
   "cell_type": "code",
   "execution_count": 45,
   "metadata": {},
   "outputs": [
    {
     "data": {
      "text/plain": [
       "11364"
      ]
     },
     "execution_count": 45,
     "metadata": {},
     "output_type": "execute_result"
    }
   ],
   "source": [
    "user_reviews['url'].nunique()"
   ]
  },
  {
   "cell_type": "code",
   "execution_count": 56,
   "metadata": {},
   "outputs": [
    {
     "name": "stdout",
     "output_type": "stream",
     "text": [
      "[<class 'int'> <class 'float'> <class 'str'>]\n"
     ]
    }
   ],
   "source": [
    "# checking that there are no strings left in the column\n",
    "print(user_reviews['idvscore'].apply(type).unique())"
   ]
  },
  {
   "cell_type": "code",
   "execution_count": 57,
   "metadata": {},
   "outputs": [
    {
     "name": "stdout",
     "output_type": "stream",
     "text": [
      "[8 9 10 6 7 4 5 3 0 nan 2 1 ':;;$$'\n",
      " ' ayfkm!! wtf!!) Ten reasons I respectfully disagree: (10) Really? Every character in the movie is a caricature. And while I liked me my Beavis & Butt-Head (huh-huh rules) for its then-revelatory reductionist critique of the then-dying music video industr'\n",
      " ' cargo carriers'\n",
      " 'few i think?? i cam out the theather seeing people smile and hearing people say that was worth the waith no bull! I can t wait for a sequel it will be better than this one or just as good as the this one???it just a great winning film in your mind that u'\n",
      " ';!?']\n"
     ]
    }
   ],
   "source": [
    "print(user_reviews['idvscore'].unique())"
   ]
  },
  {
   "cell_type": "code",
   "execution_count": 58,
   "metadata": {},
   "outputs": [
    {
     "name": "stderr",
     "output_type": "stream",
     "text": [
      "C:\\Users\\vanee\\AppData\\Local\\Temp\\ipykernel_13628\\1084589540.py:2: FutureWarning: A value is trying to be set on a copy of a DataFrame or Series through chained assignment using an inplace method.\n",
      "The behavior will change in pandas 3.0. This inplace method will never work because the intermediate object on which we are setting values always behaves as a copy.\n",
      "\n",
      "For example, when doing 'df[col].method(value, inplace=True)', try using 'df.method({col: value}, inplace=True)' or df[col] = df[col].method(value) instead, to perform the operation inplace on the original object.\n",
      "\n",
      "\n",
      "  user_reviews['idvscore'].fillna(0, inplace=True)\n"
     ]
    },
    {
     "name": "stdout",
     "output_type": "stream",
     "text": [
      "0          8.0\n",
      "1          9.0\n",
      "2         10.0\n",
      "3          6.0\n",
      "4          8.0\n",
      "          ... \n",
      "319657    10.0\n",
      "319658    10.0\n",
      "319659    10.0\n",
      "319660    10.0\n",
      "319661    10.0\n",
      "Name: idvscore, Length: 319657, dtype: float64\n"
     ]
    }
   ],
   "source": [
    "# replace existing NaN values with 0\n",
    "user_reviews['idvscore'].fillna(0, inplace=True)\n",
    "\n",
    "# converting non-numeric values to NaN\n",
    "user_reviews['idvscore'] = pd.to_numeric(user_reviews['idvscore'], errors='coerce')\n",
    "\n",
    "# dropping  rows with the invalid non-numeric NaN\n",
    "user_reviews.dropna(subset=['idvscore'], inplace=True)\n",
    "\n",
    "# print the result\n",
    "print(user_reviews['idvscore'])"
   ]
  },
  {
   "cell_type": "code",
   "execution_count": 59,
   "metadata": {},
   "outputs": [
    {
     "name": "stdout",
     "output_type": "stream",
     "text": [
      "[<class 'float'>]\n",
      "count    319657.000000\n",
      "mean          6.537814\n",
      "std           3.240495\n",
      "min           0.000000\n",
      "25%           4.000000\n",
      "50%           7.000000\n",
      "75%           9.000000\n",
      "max          10.000000\n",
      "Name: idvscore, dtype: float64\n"
     ]
    }
   ],
   "source": [
    "# checking that there are no strings left in the column\n",
    "print(user_reviews['idvscore'].apply(type).unique())\n",
    "\n",
    "# checking column statistics\n",
    "print(user_reviews['idvscore'].describe())"
   ]
  },
  {
   "cell_type": "code",
   "execution_count": 60,
   "metadata": {},
   "outputs": [
    {
     "name": "stdout",
     "output_type": "stream",
     "text": [
      "int64\n"
     ]
    }
   ],
   "source": [
    "# converting column to int64\n",
    "user_reviews['idvscore'] = user_reviews['idvscore'].astype('int64')\n",
    "\n",
    "# verifying conversion\n",
    "print(user_reviews['idvscore'].dtype)"
   ]
  },
  {
   "cell_type": "code",
   "execution_count": 33,
   "metadata": {},
   "outputs": [
    {
     "name": "stdout",
     "output_type": "stream",
     "text": [
      "[<class 'str'> <class 'float'>]\n"
     ]
    }
   ],
   "source": [
    "# checking that there are no strings left in the column\n",
    "print(user_reviews['reviewer'].apply(type).unique())"
   ]
  },
  {
   "cell_type": "code",
   "execution_count": 46,
   "metadata": {},
   "outputs": [
    {
     "name": "stdout",
     "output_type": "stream",
     "text": [
      "                                                      url idvscore reviewer  \\\n",
      "29       https://www.metacritic.com/movie/a-screaming-man      NaN      NaN   \n",
      "30        https://www.metacritic.com/movie/lovers-of-hate      NaN      NaN   \n",
      "34            https://www.metacritic.com/movie/viva-riva!      NaN      NaN   \n",
      "130         https://www.metacritic.com/movie/september-11      NaN      NaN   \n",
      "134         https://www.metacritic.com/movie/catching-out      NaN      NaN   \n",
      "...                                                   ...      ...      ...   \n",
      "318596  https://www.metacritic.com/movie/domestic-viol...      NaN      NaN   \n",
      "318841   https://www.metacritic.com/movie/giorni-e-nuvole      NaN      NaN   \n",
      "318842  https://www.metacritic.com/movie/the-last-mist...      NaN      NaN   \n",
      "319108             https://www.metacritic.com/movie/iousa      NaN      NaN   \n",
      "319139      https://www.metacritic.com/movie/frontrunners      NaN      NaN   \n",
      "\n",
      "       dateP  Rev thumbsUp thumbsTot  \n",
      "29       NaN  NaN      NaN       NaN  \n",
      "30       NaN  NaN      NaN       NaN  \n",
      "34       NaN  NaN      NaN       NaN  \n",
      "130      NaN  NaN      NaN       NaN  \n",
      "134      NaN  NaN      NaN       NaN  \n",
      "...      ...  ...      ...       ...  \n",
      "318596   NaN  NaN      NaN       NaN  \n",
      "318841   NaN  NaN      NaN       NaN  \n",
      "318842   NaN  NaN      NaN       NaN  \n",
      "319108   NaN  NaN      NaN       NaN  \n",
      "319139   NaN  NaN      NaN       NaN  \n",
      "\n",
      "[3409 rows x 7 columns]\n"
     ]
    }
   ],
   "source": [
    "#user_reviews['idvscore'].fillna(user_reviews['idvscore'].median(), inplace=True)\n",
    "\n",
    "# checking non-numeric values for idvscore column\n",
    "non_numeric_values = user_reviews[~user_reviews['idvscore'].apply(pd.to_numeric, errors='coerce').notnull()]\n",
    "print(non_numeric_values)"
   ]
  },
  {
   "cell_type": "code",
   "execution_count": 47,
   "metadata": {},
   "outputs": [
    {
     "name": "stdout",
     "output_type": "stream",
     "text": [
      "url            0\n",
      "idvscore       0\n",
      "reviewer       0\n",
      "dateP          5\n",
      "Rev            5\n",
      "thumbsUp     173\n",
      "thumbsTot    172\n",
      "dtype: int64\n"
     ]
    }
   ],
   "source": [
    "# drop columns with NaN values for both idvscore & reviewer\n",
    "user_reviews.dropna(subset=['idvscore', 'reviewer'], inplace=True)\n",
    "\n",
    "# checking for remaining null values\n",
    "print(user_reviews.isnull().sum())"
   ]
  },
  {
   "cell_type": "code",
   "execution_count": 48,
   "metadata": {},
   "outputs": [
    {
     "name": "stderr",
     "output_type": "stream",
     "text": [
      "C:\\Users\\vanee\\AppData\\Local\\Temp\\ipykernel_36488\\4001281752.py:2: FutureWarning: Downcasting object dtype arrays on .fillna, .ffill, .bfill is deprecated and will change in a future version. Call result.infer_objects(copy=False) instead. To opt-in to the future behavior, set `pd.set_option('future.no_silent_downcasting', True)`\n",
      "  user_reviews['thumbsUp'] = user_reviews['thumbsUp'].fillna(0)\n"
     ]
    },
    {
     "data": {
      "text/plain": [
       "url          0\n",
       "idvscore     0\n",
       "reviewer     0\n",
       "dateP        0\n",
       "Rev          0\n",
       "thumbsUp     0\n",
       "thumbsTot    0\n",
       "dtype: int64"
      ]
     },
     "execution_count": 48,
     "metadata": {},
     "output_type": "execute_result"
    }
   ],
   "source": [
    "# replacing NaN values with 0\n",
    "user_reviews['thumbsUp'] = user_reviews['thumbsUp'].fillna(0)\n",
    "user_reviews['thumbsTot'] = user_reviews['thumbsTot'].fillna(0)\n",
    "\n",
    "# replace missing Rev values\n",
    "user_reviews['Rev'] = user_reviews['Rev'].fillna('No review provided')\n",
    "\n",
    "# replace missing dateP values\n",
    "user_reviews['dateP'] = user_reviews['dateP'].fillna('Unknown')\n",
    "\n",
    "# checking for null values again\n",
    "user_reviews.isnull().sum()"
   ]
  },
  {
   "cell_type": "code",
   "execution_count": 49,
   "metadata": {},
   "outputs": [
    {
     "name": "stdout",
     "output_type": "stream",
     "text": [
      "<class 'pandas.core.frame.DataFrame'>\n",
      "Index: 316254 entries, 0 to 319661\n",
      "Data columns (total 7 columns):\n",
      " #   Column     Non-Null Count   Dtype \n",
      "---  ------     --------------   ----- \n",
      " 0   url        316254 non-null  object\n",
      " 1   idvscore   316254 non-null  object\n",
      " 2   reviewer   316254 non-null  object\n",
      " 3   dateP      316254 non-null  object\n",
      " 4   Rev        316254 non-null  object\n",
      " 5   thumbsUp   316254 non-null  int64 \n",
      " 6   thumbsTot  316254 non-null  object\n",
      "dtypes: int64(1), object(6)\n",
      "memory usage: 19.3+ MB\n"
     ]
    }
   ],
   "source": [
    "user_reviews.info()"
   ]
  },
  {
   "cell_type": "code",
   "execution_count": 50,
   "metadata": {},
   "outputs": [
    {
     "name": "stdout",
     "output_type": "stream",
     "text": [
      "Non-numeric values in 'idvscore':\n",
      "[' cargo carriers']\n"
     ]
    }
   ],
   "source": [
    "# Find non-numeric values in 'idvscore'\n",
    "non_numeric_idvscore = user_reviews[user_reviews['idvscore'].astype(str).str.isnumeric() == False]\n",
    "print(\"Non-numeric values in 'idvscore':\")\n",
    "print(non_numeric_idvscore['idvscore'].unique())"
   ]
  },
  {
   "cell_type": "code",
   "execution_count": 51,
   "metadata": {},
   "outputs": [
    {
     "name": "stdout",
     "output_type": "stream",
     "text": [
      "Non-numeric values in 'thumbsTot':\n",
      "[' 1}, {indvscore: 8, reviewer: AlbertP., date_published: Jul 13, 2009, review_text: Until last night, until Bruno, The Hangover was the funniest movie I, thumbs_up: 0, thumbs_total: 1}, {indvscore: 9, reviewer: StewartP, date_published: Jul 13, 2009, review_text: A very good satire that hits all the points, thumbs_up: 0, thumbs_total: 2}, {indvscore: 10, reviewer: KenG, date_published: Jul 14, 2009, review_text: Brilliant, hilarious, fearless, and insightful. A very worthy follow-up to Borat. If you (like some of the posters here) were bothered by the penis shots, and the gay sex scenes (although, the sex scenes are all staged), of course you Brilliant, hilarious, fearless, and insightful. A very worthy follow-up to Borat. If you (like some of the posters here) were bothered by the penis shots, and the gay sex scenes (although, the sex scenes are all staged), of course you didn t like this movie. You are one of the people the movie is making fun of. , thumbs_up: 0, thumbs_total: 1}, {indvscore: 10, reviewer: DaneilA, date_published: Jul 20, 2009, review_text: The funniest movie I have seen in a LONG time, including of course, Borat. That movie will get the praise, but the true cult movie classic is here., thumbs_up: 0, thumbs_total: 1}, {indvscore: 0, reviewer: JerryB, date_published: Jul 10, 2009, review_text: This was possibly the worst movie I have ever seen - there may have been one funny moment, but I don t recall it., thumbs_up: 0, thumbs_total: 1}, {indvscore: 1, reviewer: SamN., date_published: Dec 11, 2009, review_text: When I found out the amount of danger actor and crewman alike went through while making this movie, I was appalled. To think that so many people went through life and death situations to make this tasteless, unfunny mess of a film frustrates When I found out the amount of danger actor and crewman alike went through while making this movie, I was appalled. To think that so many people went through life and death situations to make this tasteless, unfunny mess of a film frustrates me. Had they put their lives at risk for something as funny as Borat, then that would be admirable. But Bruno isn t even an tenth as funny as Borat. Borat was crude, yes, but in an intelligent way that was handled with clever, well thought out writing. We got to see people go from oh, he s an odd fellow but I ll try to be accepting to get the Hell away from me you freak . That s funny. Bruno bombards you with the most repulsive crap over and over again. That s not. It does this so often that I became immune to it all and I was flat out bored by the end of the movie. , thumbs_up: 0, thumbs_total: 1}, {indvscore: 1, reviewer: lukechristiansc, date_published: Mar 7, 2014, review_text: borat was terrible now this are u kidding me this **** . i got a few laughs but this is wrost then hugo go watch the dicator instead this is not my fav film, thumbs_up: 0, thumbs_total: 2}, {indvscore: 5, reviewer: JuraM, date_published: Jul 28, 2009, review_text: A horribly disappointing return to the big screen for Baron Cohen after a fantastic gem named Borat. Bruno lives up to nor the fun or humour of it s predecessor. In all truth the character of Bruno just isn t as good as A horribly disappointing return to the big screen for Baron Cohen after a fantastic gem named Borat. Bruno lives up to nor the fun or humour of it s predecessor. In all truth the character of Bruno just isn t as good as Borat s, at all. As another reviewer points out Borat works because it s believable and Borat is likable. Bruno is neither. Often taking it slightly to far, relying on sheer shock value that has not as much effect as the long-lasting antics of Borat. And dare I say it, Borat actually had a good story, Bruno has 0. It may be slightly unfair to judge a movie by anothers standards but Borat raised the bar too high for this genre to live up to! , thumbs_up: 0, thumbs_total: 0}, {indvscore: 8, reviewer: EvinC, date_published: Aug 12, 2009, review_text: Funny and shocking. People have to realize it s just a Sacha Cohen comedy. Watch it if your comfortable with his kind of comedy. Made me laugh out loud. Maybe it might make you., thumbs_up: 0, thumbs_total: 0}, {indvscore: 8, reviewer: Dave, date_published: Aug 2, 2009, review_text: Jesus, people thought Borat was believable? It is a parody of our perception of Middle Easterners. This movie is a parody of our perception of gay men. I ll tell you what: I m a straight male. But I kinda hope that every movie for Jesus, people thought Borat was believable? It is a parody of our perception of Middle Easterners. This movie is a parody of our perception of gay men. I ll tell you what: I m a straight male. But I kinda hope that every movie for the foreseeable future throws a few naked penises on screen until homophobic guys get over themselves. , thumbs_up: 0, thumbs_total: 0}, {indvscore: 9, reviewer: Range41, date_published: Jul 11, 2009, review_text: Really outrageous! I agree this wasn t as good as Borat in terms of the targets of ridicule being more obvious, and having more parts that felt really staged. However, the movie had me and the whole theater in stitches.... and the last Really outrageous! I agree this wasn t as good as Borat in terms of the targets of ridicule being more obvious, and having more parts that felt really staged. However, the movie had me and the whole theater in stitches.... and the last big scene (the wrestling scene) was both funny and extremely disturbing/poignant all at the same time. Only Cohen can have you in tears both from laughing and sadness for our culture at the same time. , thumbs_up: 0, thumbs_total: 0}, {indvscore: 10, reviewer: MrSensible, date_published: Jul 11, 2009, review_text: Crude - yes. Random - yes. But it is pure comedy genius. I have not laughed like that since. well, Borat., thumbs_up: 0, thumbs_total: 0}, {indvscore: 10, reviewer: AaronD., date_published: Jul 11, 2009, review_text: If you go to see this movie without realizing it s about a gay man or without realizing it s made by SBC, you don t deserve to give it a rating. Of course there is talk of anal sex, oral sex, and dildos. If you didn t If you go to see this movie without realizing it s about a gay man or without realizing it s made by SBC, you don t deserve to give it a rating. Of course there is talk of anal sex, oral sex, and dildos. If you didn t know that, you should have left less than 15 minutes after the movie started... Those who stay after that will give it a 10! , thumbs_up: 0, thumbs_total: 0}, {indvscore: 10, reviewer: SamanthaS, date_published: Jul 10, 2009, review_text: I just saw the movie and it was very inappropriate.It had humor that was stupid yet Sacha Baron Cohen is a man who is funny. I just really enjoyed it. Stupid yet very smart., thumbs_up: 0, thumbs_total: 0}, {indvscore: 1, reviewer: JohnF., date_published: Jul 11, 2009, review_text: Dreary bad taste. A scant 82 minutes of skits with a central theme of anal sex and very dated stereotypical, effeminate, homosexual mannerisms., thumbs_up: 0, thumbs_total: 0}, {indvscore: 10, reviewer: StevenA., date_published: Jul 10, 2009, review_text: Are you kidding me?! This was absolutely hilarious! Never before has something so tasteless been so witty, intelligent, and downright hysterical all at once! While metascores indicate otherwise, this film was SO much more daring and Are you kidding me?! This was absolutely hilarious! Never before has something so tasteless been so witty, intelligent, and downright hysterical all at once! While metascores indicate otherwise, this film was SO much more daring and laugh-out-loud worthy than Borat, which I love! Needless to say, ignore the overall mediocre score, go see it, and laugh until it hurts! , thumbs_up: 0, thumbs_total: 0}, {indvscore: 10, reviewer: ShaunM., date_published: Jul 10, 2009, review_text: Incredibly intelligent and extremely offensive and disturbing. Those who hate it don t get it., thumbs_up: 0, thumbs_total: 0}, {indvscore: 7, reviewer: moonwaffle6, date_published: Jul 10, 2009, review_text: This movie is exhausting in its inconsistency and cruelty. the character bruno is more obnoxious, lewder, and his racial satire is more cringe-inducing than borat. as for the movie itself, it bounces from brilliance to hilarious awkwardness,This movie is exhausting in its inconsistency and cruelty. the character bruno is more obnoxious, lewder, and his racial satire is more cringe-inducing than borat. as for the movie itself, it bounces from brilliance to hilarious awkwardness, to just plain awful scenes that fail on all accounts. All that being said, i still loved it. Just be prepared for less cleverness and more shock value this time around. , thumbs_up: 0, thumbs_total: 0}, {indvscore: 10, reviewer: RyanO, date_published: Jul 10, 2009, review_text: Like a bull ride from hell; people could not handle it because it was too wild. This movie pushed the limits of mental prejudice well beyond anything ever before tried. Bruno reveals prejudice in viewers by attempting to offend you as much Like a bull ride from hell; people could not handle it because it was too wild. This movie pushed the limits of mental prejudice well beyond anything ever before tried. Bruno reveals prejudice in viewers by attempting to offend you as much as possible. If you were offended than the movies purpose was successful. If you were not you were able to see the hilarity that ensued on screen. , thumbs_up: 0, thumbs_total: 0}, {indvscore: 0, reviewer: AndrewR, date_published: Jul 12, 2009, review_text: To me, Borat was a huge laughfest, so I gave Bruno a try although the trailer looked pretty poor. The movie was a complete flop, hardly anyone in the theater was laughing at anything. Granted one or two moments got a laugh out of me, but To me, Borat was a huge laughfest, so I gave Bruno a try although the trailer looked pretty poor. The movie was a complete flop, hardly anyone in the theater was laughing at anything. Granted one or two moments got a laugh out of me, but trust me, I loved Borat, but Bruno should definitely be avoided at all costs. , thumbs_up: 0, thumbs_total: 0}, {indvscore: 1, reviewer: konnorM, date_published: Jul 13, 2009, review_text: This is one of the worst movies I have ever seen. It is boring and pathetic...the only part at I laughed at was when the hole of his cock barked Bruno. The rest was downhill., thumbs_up: 0, thumbs_total: 0}, {indvscore: 7, reviewer: eg, date_published: Jul 13, 2009, review_text: It had its funny parts, I give it that. In my opinion it was too short, and some of the stuff was just dumb. I did laugh alot, and enjoyed seeing it, so i give it a 7., thumbs_up: 0, thumbs_total: 0}, {indvscore: 10, reviewer: MikeD, date_published: Jul 13, 2009, review_text: This movie is definitely the funniest movie so far this year. Gut busting, laugh out loud hilarity! Certain segments of the population won t get it (midwest conservatives, I m talking to you) but the rest will laugh their heads This movie is definitely the funniest movie so far this year. Gut busting, laugh out loud hilarity! Certain segments of the population won t get it (midwest conservatives, I m talking to you) but the rest will laugh their heads off. Basically, you will either love this movie or leave 20 minutes into it. , thumbs_up: 0, thumbs_total: 0}, {indvscore: 2, reviewer: AV, date_published: Jul 13, 2009, review_text: Only reason i rated this a 2 is because that is how many times i laughed. this was definitely no borat (at least Borat had a balance of funny and vulgar comedy)., thumbs_up: 0, thumbs_total: 0}, {indvscore: 9, reviewer: LeviH, date_published: Jul 15, 2009, review_text: Like Borat before it, this movie was designed with the complete discomfort of the audience in mind. Also like Borat, you aren t going to believe some of the things you hear human beings saying or see them doing, not least of all the Like Borat before it, this movie was designed with the complete discomfort of the audience in mind. Also like Borat, you aren t going to believe some of the things you hear human beings saying or see them doing, not least of all the title character. There were, in fact, quite a few moments in this movie where I feared for Sacha Baron Cohen s safety. He is a man with serious balls, and this film is a must see so long as you don t mind actually viewing those balls. , thumbs_up: 0, thumbs_total: 0}, {indvscore: 9, reviewer: DavidH., date_published: Jul 10, 2009, review_text: The less said the better, absolutely hilarious., thumbs_up: 0, thumbs_total: 0}, {indvscore: 1, reviewer: SpungoM, date_published: Jul 16, 2009, review_text: Felt like a really bad 1990 s Lorn Michaels film. In other words, a 5 minute SNL skit stretched into an 83 minute movie. The Bruno character was by far the weakest on Da Ali G Show, so no surprises that a Bruno movie would be so horrible., thumbs_up: 0, thumbs_total: 0}, {indvscore: 10, reviewer: AndrewG, date_published: Jul 16, 2009, review_text: Despite the 10 rating, this is not a perfect film -- parts of it drag and some of it falls flat -- 0theless, the parts that work are so outrageously funny and dead on in their lampooning of celebrity culture, homophobia, and sheer human Despite the 10 rating, this is not a perfect film -- parts of it drag and some of it falls flat -- 0theless, the parts that work are so outrageously funny and dead on in their lampooning of celebrity culture, homophobia, and sheer human stupidity that it deserves top rating -- if only for the Man Slammin finale. , thumbs_up: 0, thumbs_total: 0}, {indvscore: 7, reviewer: MattK., date_published: Jul 16, 2009, review_text: A really funny movie with great shticks and one-liners, unfortunately the gay fanfare was just over the top and nearly had me questioning my own sexuality., thumbs_up: 0, thumbs_total: 0}, {indvscore: 6, reviewer: LuisG, date_published: Jul 16, 2009, review_text: The shock is there yet with less merit than BORAT most scenes feel clustered together and leave you with no real value except shock. Yes America is still intolerant but it really gives no help to the cause pure capitalism on Americas lack ofThe shock is there yet with less merit than BORAT most scenes feel clustered together and leave you with no real value except shock. Yes America is still intolerant but it really gives no help to the cause pure capitalism on Americas lack of coherence to how narcissistic and desperate to be in control. , thumbs_up: 0, thumbs_total: 0}, {indvscore: 10, reviewer: ManuelQ., date_published: Jul 16, 2009, review_text: Simply: is the best comedian film I ve seen in my life., thumbs_up: 0, thumbs_total: 0}, {indvscore: 9, reviewer: KubaS, date_published: Jul 17, 2009, review_text: Not as good as Borat, it s still top act from Cohen. Yes, it s stupid. No, it doesn t make you think. It makes you laugh though., thumbs_up: 0, thumbs_total: 0}, {indvscore: 8, reviewer: AlexB, date_published: Jul 10, 2009, review_text: Although it lacks a real storyline the film had the entire theatre in stitches from start to finish. At times crude, rude and outlandish, this is a proud sequel to Borat which set the bar incredibly high. Obviously as a result of Although it lacks a real storyline the film had the entire theatre in stitches from start to finish. At times crude, rude and outlandish, this is a proud sequel to Borat which set the bar incredibly high. Obviously as a result of this, the film does cross far more boundaries then Borat, but in doing so strikes up some comedy brass, not quite gold, but it looks the same and has the same effect. , thumbs_up: 0, thumbs_total: 0}, {indvscore: 8, reviewer: LarsK., date_published: Jul 19, 2009, review_text: Not equal to Borat in terms of quality but still far better than any Hollywood-Comedy-Movie in recent years. Br no infiltrates the american (sub)culture to stimulate your laugh muscles with unforgettable scenes and I bet even Not equal to Borat in terms of quality but still far better than any Hollywood-Comedy-Movie in recent years. Br no infiltrates the american (sub)culture to stimulate your laugh muscles with unforgettable scenes and I bet even homosexuals will giggle one or two times. Br nos appearance is totaly cute and loveable you cant be mad at this guy. So all of you puffy patriots raise your hands to the brave new Fuhrer, ja!?! Hail Bruno. , thumbs_up: 0, thumbs_total: 0}, {indvscore: 9, reviewer: majoy., date_published: Jul 20, 2009, review_text: I can t believe the negative reviews. I saw this and Borat within the first 10 days they came out and had little interest really in both. Borat was good, funny, some gross, but a bit long for me....didn t inspire me to want to see I can t believe the negative reviews. I saw this and Borat within the first 10 days they came out and had little interest really in both. Borat was good, funny, some gross, but a bit long for me....didn t inspire me to want to see Bruno.... But as things go, friends were going, and so I went along, with little excitement because I saw some of the negative reviews. But Bruno was sensationally funny, way over the top, had several moments where you couldn t watch, but were laughing ridiculously hard as yuo closed your eyes. Bruno totally plays on the whole accept everyone mentality of the USA and yet really can t except the gays....I mean Sacha Baren Cohen is a comedic genius. I am not going to give anything away, and advise folks not to read too much before seeing it. But there wasn t really a bad moment at all in this entire movie. From start to finish it was a total laugh riot. The Pros: get ready to laugh really hard at this surprisingly intellectual gross out movie....the jokes are a mile a minute and told mostly all straight, but the grand joke of prejudice is felt at the end. Cohen does a remarkable job in both characters (Bruno and his alt ego at the end of the movie). There s not a movie like this that really has ever been made (this made Borat seem very very tame). Cons: Well I don t know if I could watch this again....there were some really cringe moments. But this was an absolutely great movie 0theless. I m surprised it got only an R rating though, definitely not for kids really under 17.... I am excited to see what else Mr. Cohen has up his sleeves in future years. , thumbs_up: 0, thumbs_total: 0}, {indvscore: 7, reviewer: HyperS, date_published: Jul 21, 2009, review_text: Its crude. Extremely sexual in nature. And I would imagine quite offensive to the homosexual community.. But, it was funny... and time seemed to fly by. Jackass & Bruno... same level of humor... like one you d probably like the other. Its crude. Extremely sexual in nature. And I would imagine quite offensive to the homosexual community.. But, it was funny... and time seemed to fly by. Jackass & Bruno... same level of humor... like one you d probably like the other. Just remember. Kids don t go with your parents. Parents don t go with your kids. Would make for an extremely embarrassing and life scaring event (poor 14 year old going with grandma/grandpa. Poor 14 year old going period. ITS FOR ADULTS!). , thumbs_up: 0, thumbs_total: 0}, {indvscore: 6, reviewer: MichaelB., date_published: Jul 21, 2009, review_text: It wasn t horrible, but after a while, I felt like watching Borat again. Plus, it seemed that many scenes were staged unlike Borat, where it all looked unscripted. Not that bad overall though., thumbs_up: 0, thumbs_total: 0}, {indvscore: 0, reviewer: JillianT., date_published: Jul 23, 2009, review_text: I liked da ali g show and borat but this was awful... dumb humor, vile antics, stupid storyline (why is there even a storyline? it would have been better without one)., thumbs_up: 0, thumbs_total: 0}, {indvscore: 10, reviewer: Magik300, date_published: Aug 13, 2009, review_text: I ve just seen trailer, but I have so much fun over two minutes that I didn t have in years., thumbs_up: 0, thumbs_total: 0}, {indvscore: 9, reviewer: ZacH, date_published: Aug 3, 2009, review_text: I thought Bruno was fantastic i would give it a ten but i thought it was too short and i am a perfectly straight man but i must say the beginning is very graphic., thumbs_up: 0, thumbs_total: 0}, {indvscore: 4, reviewer: BrettW, date_published: Aug 3, 2009, review_text: Not a very good movie. There are one or two outrageously funny moments but other than that there isn t much to make you belly-laugh. I enjoy awkward shock humor when it works but a lot of it in this movie doesn t work. It may be Not a very good movie. There are one or two outrageously funny moments but other than that there isn t much to make you belly-laugh. I enjoy awkward shock humor when it works but a lot of it in this movie doesn t work. It may be worth renting this movie to watch with your friends, but save your money and don t see it in theaters. Oh and the people who are giving the film a 0 and saying you have to be gay to enjoy the movie, are exactly the type of people this movie was trying to make fun of. I haven t seen anything in my entire life that has offended me enough to say the things that angie a and alisha k are saying. Grow up and get used to seeing things that offend you. And stop bit**ing about it. , thumbs_up: 0, thumbs_total: 0}, {indvscore: 9, reviewer: JamesV, date_published: Aug 7, 2009, review_text: Anything that pokes fun at the large percentage of ignorant yanks is fine by me. Reading some of the other comments on here makes me think that they saw a little to much of themselves in some of the interviewees/UFC crowds to find it funny. Anything that pokes fun at the large percentage of ignorant yanks is fine by me. Reading some of the other comments on here makes me think that they saw a little to much of themselves in some of the interviewees/UFC crowds to find it funny. A vicious assault on middle America, a fine place to commence the attack. , thumbs_up: 0, thumbs_total: 0}, {indvscore: 9, reviewer: MattF, date_published: Aug 9, 2009, review_text: WOW, it s crude, its racist, it extreme, its Bruno. I loved it, though its hit or miss if you like crude and racist or gay jokes for shock value you ll love it, but don t give it a bad rating if it s not your thing or if WOW, it s crude, its racist, it extreme, its Bruno. I loved it, though its hit or miss if you like crude and racist or gay jokes for shock value you ll love it, but don t give it a bad rating if it s not your thing or if you find it over the top its an all around good plot amazing improv and it makes fun of almost everyone from me 2 thumbs up 4.5 of 5 stars. , thumbs_up: 0, thumbs_total: 0}, {indvscore: 0, reviewer: CalebG, date_published: Jan 18, 2010, review_text: I usually force myself to finish all movies and books, no matter how bad, but I walked out of this movie. Such a disappointment compared to Borat. I give it a 0/10 because I actually asked for my money back., thumbs_up: 0, thumbs_total: 0}, {indvscore: 10, reviewer: roland, date_published: Dec 4, 2009, review_text: This is visceral satire at its very best. Jonathon Swift on benzedrine. My lungs ached as Bruno lurched from one target to the next. Wise, hilarious and with a moral highway wide enough for a supersize rampant rabbit and a bit more. Not very This is visceral satire at its very best. Jonathon Swift on benzedrine. My lungs ached as Bruno lurched from one target to the next. Wise, hilarious and with a moral highway wide enough for a supersize rampant rabbit and a bit more. Not very straight and not very narrow but a work of comic genius and thrusting, ball-busting integrity. , thumbs_up: 0, thumbs_total: 0}, {indvscore: 0, reviewer: Darren, date_published: Dec 7, 2009, review_text: Complete waste of money. I turned it off part way through since it was such a waste of time., thumbs_up: 0, thumbs_total: 0}, {indvscore: 1, reviewer: TannerP., date_published: Jul 11, 2009, review_text: If you like watching homosexual porno, then this movie is for you. Most of the laughter that ensued during the movie was out of pure disgust and WTF!? I can t believe they put this in a movie moments. The few genuinely funny moments If you like watching homosexual porno, then this movie is for you. Most of the laughter that ensued during the movie was out of pure disgust and WTF!? I can t believe they put this in a movie moments. The few genuinely funny moments are outweighed heavily by the cringe worthy moments. The worst movie I have laid my eyes on. , thumbs_up: 0, thumbs_total: 0}, {indvscore: 9, reviewer: JohnS., date_published: Jul 11, 2009, review_text: Don t go see this movie if you re easily offended or insecure about your sexuality. If you like Sacha Baron Cohen and can see the bottom line of this films goals, you will enjoy it. Also be prepared to see some male genitalia, it Don t go see this movie if you re easily offended or insecure about your sexuality. If you like Sacha Baron Cohen and can see the bottom line of this films goals, you will enjoy it. Also be prepared to see some male genitalia, it will probably catch you off guard. , thumbs_up: 0, thumbs_total: 0}, {indvscore: 5, reviewer: PeterO., date_published: Jul 11, 2009, review_text: Bruno is a poor follow-up to Borat. It does contain some funny clips and moments, but they are heavily overshadowed by shocking and disgusting sex scenes, some including anal sex and other gay endeavours. This seems to be a movie that you Bruno is a poor follow-up to Borat. It does contain some funny clips and moments, but they are heavily overshadowed by shocking and disgusting sex scenes, some including anal sex and other gay endeavours. This seems to be a movie that you either love or hate so I recommend that you see it for yourself and make your own final decision. 5/10. , thumbs_up: 0, thumbs_total: 0}, {indvscore: 10, reviewer: AlyE., date_published: Jul 11, 2009, review_text: This is a mockumentary people! It s not supposed to make sense or tell a story, rather its purpose is to use satire to highlight other people s stupidity, desperation, racism, and homophobia. The beauty is that SBC exposes This is a mockumentary people! It s not supposed to make sense or tell a story, rather its purpose is to use satire to highlight other people s stupidity, desperation, racism, and homophobia. The beauty is that SBC exposes ignorance by pushing the envelope to threaten people s composure and hit nerves. That the people are clueless that he s not a real person, is what makes his antics that much more effective and hilarious. Yes, the movie is highly offensive, vulgar, crude, and shocking, but I loved it for those very reasons, and above all, because it was unpredictable-- I had no idea what would happen next. If you d rather watch a lame, boring, safe, cliche, politically correct movie that you can figure out after the first half hour, then of course you d absolutely hate Bruno. For the rest of us who want to see something different on the silver screen, Bruno is a refreshing and memorable deviation from the norm. , thumbs_up: 0, thumbs_total: 0}, {indvscore: 8, reviewer: SteveG., date_published: Jul 11, 2009, review_text: It is not nearly as good or consistently funny as Borat. But Bruno has its share of amazing moments. From attempting to seduce both a former presidential candidate and a cast member from Deliverance to the adoption running gag -- Bruno is It is not nearly as good or consistently funny as Borat. But Bruno has its share of amazing moments. From attempting to seduce both a former presidential candidate and a cast member from Deliverance to the adoption running gag -- Bruno is over the top and visceral. It is not for everybody though. , thumbs_up: 0, thumbs_total: 0}, {indvscore: 10, reviewer: PF, date_published: Jul 11, 2009, review_text: The TN crowd I saw it with screamed in horror and then laughed until their sides hurt from beginning to end. I feel like my head was used in a volleyball game. Much funnier than Borat, a masterpiece. Rating should be NC-17, not appropriate The TN crowd I saw it with screamed in horror and then laughed until their sides hurt from beginning to end. I feel like my head was used in a volleyball game. Much funnier than Borat, a masterpiece. Rating should be NC-17, not appropriate for anyone under 17 due to severe content. , thumbs_up: 0, thumbs_total: 0}, {indvscore: 0, reviewer: Philip, date_published: Jul 11, 2009, review_text: Avoid this movie! It s nothing like Borat, it s more like a gay porno... In fact, it could put most of those to shame. Saying this movie is 99% debauchery isn t an opinion, it s a fact. The very few laughs won t stop Avoid this movie! It s nothing like Borat, it s more like a gay porno... In fact, it could put most of those to shame. Saying this movie is 99% debauchery isn t an opinion, it s a fact. The very few laughs won t stop you from feeling violated after cringing through this filth. , thumbs_up: 0, thumbs_total: 0}, {indvscore: 10, reviewer: ChadS., date_published: Jul 11, 2009, review_text: At any given moment, unflappable you, cerebral you, the you who laughed without apology throughout Borat, is bound to be disconcerted by the lengths that the comedian/performance artist will go for a laugh. Always an equal opportunity At any given moment, unflappable you, cerebral you, the you who laughed without apology throughout Borat, is bound to be disconcerted by the lengths that the comedian/performance artist will go for a laugh. Always an equal opportunity offender, Sacha Baron Cohen, trying on his latest outsider naif persona, an Austrian male model named Bruno, arrives stateside(like his Kazakhstanian predecessor with the gray suit) to disclose the ugly truth about American people. With some heavy-duty instigating, however unfair, Cohen gets to the core of plain old folks sensibilities towards race and sexual orientation, quite brilliantly, in typical gonzo style, at the taping of a daytime talk-show where a pre-dominantly African-American audience expresses their disapproval towards Bruno for adopting one of their own. Oblivious to the minefield that lays ahead of him, in this scene, Cohen actually has the balls to set the gay agenda back, since Bruno shouldn t be anywhere near a child, while simultaneously presenting black people as hypocrites for denying homosexuals their civil rights. Sure, the Eurotrash fashionista provokes the studio crowd with some outlandish race-baiting, but they boo him before his racist provocations. The breadth of Cohen s madcap chutzpah will set off explosions in your summer blockbuster-addled head. Supporting gay rights with Bruno as its criterion is like being a Two Live Crew advocate during the eighties when Tipper Gore and the PMRC went after the misogynistic rappers. Cohen, who is Jewish, with his talent for getting unaware subjects to say the darnedest things, ironically(because of the anti-Semitic streak in Borat), evokes documentarian Claude Lanzman, whose dishonest interviewing techniques in Shoah, got SS officers to talk openly about the Holocaust. On a different scale from processing Jews for liquidation, but shocking in its own right, Cohen captures on film, a showbiz mother willing to cast her baby as a Nazi officer who pushes another infant, a representational concentration camper, into an oven. Political correctness(supporting gay rights) collides'\n",
      " ' the Force Awakens. 7. I loved this movie to the core, it s heart-breaking and hope-bringing. The third act will BLOW- YOUR MIND. 8. Darth Vader OMFG he is damn terrifying. Princess Leia is CGI of the younger version. In the end when they ask what is this ? while giving the chip.She replies HOPE. SNAP END CREDITS. GOOSEBUMPS.VERDICT: Go, watch it, Irony I walked all the way to my home from the stop chanting I am the force, and the force is with me you ll get the reference after the watch. Way Way better than Star Wars VII. I loved it to the core , thumbs_up: 5, thumbs_total: 11']\n"
     ]
    }
   ],
   "source": [
    "# Find non-numeric values in 'thumbsTot'\n",
    "non_numeric_thumbsTot = user_reviews[user_reviews['thumbsTot'].astype(str).str.isnumeric() == False]\n",
    "print(\"Non-numeric values in 'thumbsTot':\")\n",
    "print(non_numeric_thumbsTot['thumbsTot'].unique())"
   ]
  },
  {
   "cell_type": "markdown",
   "metadata": {},
   "source": [
    "It seems like some of the reviews are not formatted correctly, and all of their metadata been added to a single 'thumbsTot' cell. We will attempt to create individual rows for each review."
   ]
  },
  {
   "cell_type": "code",
   "execution_count": 52,
   "metadata": {},
   "outputs": [
    {
     "name": "stdout",
     "output_type": "stream",
     "text": [
      "Empty DataFrame\n",
      "Columns: [url, idvscore, reviewer, dateP, Rev, thumbsUp, thumbsTot]\n",
      "Index: []\n"
     ]
    }
   ],
   "source": [
    "user_reviews['reviewer'] = user_reviews['reviewer'].str.strip()\n",
    "print(user_reviews[user_reviews['reviewer'] == 'AlbertP'])"
   ]
  },
  {
   "cell_type": "code",
   "execution_count": 70,
   "metadata": {},
   "outputs": [
    {
     "name": "stdout",
     "output_type": "stream",
     "text": [
      "0    [nan]\n",
      "1    [nan]\n",
      "2    [nan]\n",
      "3    [nan]\n",
      "4    [nan]\n",
      "Name: thumbsTot, dtype: object\n",
      "url          object\n",
      "idvscore     object\n",
      "reviewer     object\n",
      "dateP        object\n",
      "Rev          object\n",
      "thumbsUp      int64\n",
      "thumbsTot    object\n",
      "dtype: object\n",
      "0    [['nan']]\n",
      "1    [['nan']]\n",
      "2    [['nan']]\n",
      "3    [['nan']]\n",
      "4    [['nan']]\n",
      "Name: thumbsTot, dtype: object\n",
      "                                        url idvscore        reviewer  \\\n",
      "0  https://www.metacritic.com/movie/bronson        8  'Longbottom94'   \n",
      "1  https://www.metacritic.com/movie/bronson        9       'MartinB'   \n",
      "2  https://www.metacritic.com/movie/bronson       10        'Jaakko'   \n",
      "3  https://www.metacritic.com/movie/bronson        6         'CapoR'   \n",
      "4  https://www.metacritic.com/movie/bronson        8      'OrwellB.'   \n",
      "\n",
      "             dateP                                                Rev  \\\n",
      "0   'Apr 25, 2013'   'Many have dismissed this film for not explor...   \n",
      "1   'Oct 13, 2009'   'Anyone who doesn t like this movie simply ju...   \n",
      "2   'Jul 19, 2012'   'Not sure what to think at this film at first...   \n",
      "3   'Oct 13, 2009'   'Nicely portrayed but it lacks the elements t...   \n",
      "4   'Oct 10, 2009'   'Bronson is more than entertainment. It is ar...   \n",
      "\n",
      "   thumbsUp thumbsTot  \n",
      "0         2   ['nan']  \n",
      "1         0   ['nan']  \n",
      "2         1   ['nan']  \n",
      "3         0   ['nan']  \n",
      "4         0   ['nan']  \n"
     ]
    }
   ],
   "source": [
    "# user_reviews['thumbsTot'] = user_reviews['thumbsTot'].str.split('{}')\n",
    "#user_reviews_exploded = user_reviews.explode('thumbsTot', ignore_index=True)\n",
    "\n",
    "# Check the first few rows of the thumbsTot column to understand its format\n",
    "print(user_reviews['thumbsTot'].head())\n",
    "\n",
    "# Check the data types of the columns\n",
    "print(user_reviews.dtypes)\n",
    "\n",
    "# If 'thumbsTot' is not already a string, we can attempt to explicitly convert it to string\n",
    "user_reviews['thumbsTot'] = user_reviews['thumbsTot'].apply(str)\n",
    "\n",
    "# Now, let's try splitting the 'thumbsTot' column by the curly braces\n",
    "user_reviews['thumbsTot'] = user_reviews['thumbsTot'].str.split('{}')\n",
    "\n",
    "# Check if the 'thumbsTot' column was correctly split\n",
    "print(user_reviews['thumbsTot'].head())\n",
    "\n",
    "# Explode the 'thumbsTot' column into separate rows\n",
    "user_reviews_exploded = user_reviews.explode('thumbsTot', ignore_index=True)\n",
    "\n",
    "# Clean up the 'thumbsTot' column by stripping whitespace\n",
    "user_reviews_exploded['thumbsTot'] = user_reviews_exploded['thumbsTot'].str.strip()\n",
    "\n",
    "# Optional: Remove rows where 'thumbsTot' might be empty after the explosion\n",
    "user_reviews_exploded = user_reviews_exploded[user_reviews_exploded['thumbsTot'] != '']\n",
    "\n",
    "# Reset the index if necessary\n",
    "user_reviews_exploded.reset_index(drop=True, inplace=True)\n",
    "\n",
    "# Print the final exploded DataFrame\n",
    "print(user_reviews_exploded.head())"
   ]
  },
  {
   "cell_type": "code",
   "execution_count": 74,
   "metadata": {},
   "outputs": [
    {
     "name": "stdout",
     "output_type": "stream",
     "text": [
      "object\n",
      "                                        url idvscore        reviewer  \\\n",
      "0  https://www.metacritic.com/movie/bronson        8  'Longbottom94'   \n",
      "1  https://www.metacritic.com/movie/bronson        9       'MartinB'   \n",
      "2  https://www.metacritic.com/movie/bronson       10        'Jaakko'   \n",
      "3  https://www.metacritic.com/movie/bronson        6         'CapoR'   \n",
      "4  https://www.metacritic.com/movie/bronson        8      'OrwellB.'   \n",
      "\n",
      "             dateP                                                Rev  \\\n",
      "0   'Apr 25, 2013'   'Many have dismissed this film for not explor...   \n",
      "1   'Oct 13, 2009'   'Anyone who doesn t like this movie simply ju...   \n",
      "2   'Jul 19, 2012'   'Not sure what to think at this film at first...   \n",
      "3   'Oct 13, 2009'   'Nicely portrayed but it lacks the elements t...   \n",
      "4   'Oct 10, 2009'   'Bronson is more than entertainment. It is ar...   \n",
      "\n",
      "   thumbsUp thumbsTot  \n",
      "0         2   ['nan']  \n",
      "1         0   ['nan']  \n",
      "2         1   ['nan']  \n",
      "3         0   ['nan']  \n",
      "4         0   ['nan']  \n"
     ]
    }
   ],
   "source": [
    "import pandas as pd\n",
    "import numpy as np\n",
    "import ast\n",
    "\n",
    "# Check the type of the 'thumbsTot' column\n",
    "print(user_reviews['thumbsTot'].dtype)\n",
    "\n",
    "# Step 1: Ensure the 'thumbsTot' column is a list, even if it's in string format\n",
    "def clean_thumbsTot(value):\n",
    "    # Check if the value is a string that looks like a list\n",
    "    if isinstance(value, str) and value.startswith('[') and value.endswith(']'):\n",
    "        # Safely convert string to list\n",
    "        value = ast.literal_eval(value)  # Converts string representation of list to actual list\n",
    "    \n",
    "    # Replace 'nan' (as string) with np.nan in the list if necessary\n",
    "    if isinstance(value, list):\n",
    "        return [np.nan if i == 'nan' else i for i in value]\n",
    "    return value\n",
    "\n",
    "# Step 2: Apply the cleaning function to the 'thumbsTot' column\n",
    "user_reviews['thumbsTot'] = user_reviews['thumbsTot'].apply(clean_thumbsTot)\n",
    "\n",
    "# Step 3: Explode the 'thumbsTot' column into separate rows\n",
    "user_reviews_exploded = user_reviews.explode('thumbsTot', ignore_index=True)\n",
    "\n",
    "# Step 4: Clean up the 'thumbsTot' column by stripping whitespace (if needed)\n",
    "user_reviews_exploded['thumbsTot'] = user_reviews_exploded['thumbsTot'].str.strip()\n",
    "\n",
    "# Step 5: Remove rows where 'thumbsTot' is NaN after explosion\n",
    "user_reviews_exploded = user_reviews_exploded[user_reviews_exploded['thumbsTot'].notna()]\n",
    "\n",
    "# Step 6: Reset index\n",
    "user_reviews_exploded.reset_index(drop=True, inplace=True)\n",
    "\n",
    "# Print the final exploded DataFrame\n",
    "print(user_reviews_exploded.head())\n",
    "\n"
   ]
  },
  {
   "cell_type": "code",
   "execution_count": 68,
   "metadata": {},
   "outputs": [
    {
     "name": "stdout",
     "output_type": "stream",
     "text": [
      "Empty DataFrame\n",
      "Columns: [url, idvscore, reviewer, dateP, Rev, thumbsUp, thumbsTot]\n",
      "Index: []\n"
     ]
    }
   ],
   "source": [
    "print(user_reviews_exploded[user_reviews_exploded['reviewer'] == 'AlbertP'])"
   ]
  },
  {
   "cell_type": "code",
   "execution_count": 69,
   "metadata": {},
   "outputs": [
    {
     "name": "stdout",
     "output_type": "stream",
     "text": [
      "0    [nan]\n",
      "1    [nan]\n",
      "2    [nan]\n",
      "3    [nan]\n",
      "4    [nan]\n",
      "Name: thumbsTot, dtype: object\n"
     ]
    }
   ],
   "source": [
    "print(user_reviews['thumbsTot'].head())"
   ]
  },
  {
   "cell_type": "code",
   "execution_count": 67,
   "metadata": {},
   "outputs": [
    {
     "name": "stdout",
     "output_type": "stream",
     "text": [
      "316254\n"
     ]
    }
   ],
   "source": [
    "#print(user_reviews_exploded.head(100))\n",
    "print(len(user_reviews_exploded))"
   ]
  },
  {
   "cell_type": "code",
   "execution_count": 63,
   "metadata": {},
   "outputs": [
    {
     "name": "stdout",
     "output_type": "stream",
     "text": [
      "Empty DataFrame\n",
      "Columns: [url, idvscore, reviewer, dateP, Rev, thumbsUp, thumbsTot]\n",
      "Index: []\n"
     ]
    }
   ],
   "source": [
    "user_reviews_exploded['reviewer'] = user_reviews_exploded['reviewer'].str.strip()\n",
    "print(user_reviews_exploded[user_reviews_exploded['reviewer'] == 'AlbertP'])"
   ]
  },
  {
   "cell_type": "code",
   "execution_count": 62,
   "metadata": {},
   "outputs": [
    {
     "ename": "ValueError",
     "evalue": "invalid literal for int() with base 10: ' 1}, {indvscore: 8, reviewer: AlbertP., date_published: Jul 13, 2009, review_text: Until last night, until Bruno, The Hangover was the funniest movie I, thumbs_up: 0, thumbs_total: 1}, {indvscore: 9,",
     "output_type": "error",
     "traceback": [
      "\u001b[1;31m---------------------------------------------------------------------------\u001b[0m",
      "\u001b[1;31mValueError\u001b[0m                                Traceback (most recent call last)",
      "Cell \u001b[1;32mIn[62], line 3\u001b[0m\n\u001b[0;32m      1\u001b[0m \u001b[38;5;66;03m# converting numeric columns from string to int\u001b[39;00m\n\u001b[0;32m      2\u001b[0m \u001b[38;5;66;03m#user_reviews[['idvscore']] = user_reviews[['idvscore']].fillna(0).astype('float64')\u001b[39;00m\n\u001b[1;32m----> 3\u001b[0m user_reviews_exploded[[\u001b[38;5;124m'\u001b[39m\u001b[38;5;124mthumbsTot\u001b[39m\u001b[38;5;124m'\u001b[39m]] \u001b[38;5;241m=\u001b[39m \u001b[43muser_reviews_exploded\u001b[49m\u001b[43m[\u001b[49m\u001b[43m[\u001b[49m\u001b[38;5;124;43m'\u001b[39;49m\u001b[38;5;124;43mthumbsTot\u001b[39;49m\u001b[38;5;124;43m'\u001b[39;49m\u001b[43m]\u001b[49m\u001b[43m]\u001b[49m\u001b[38;5;241;43m.\u001b[39;49m\u001b[43mfillna\u001b[49m\u001b[43m(\u001b[49m\u001b[38;5;241;43m0\u001b[39;49m\u001b[43m)\u001b[49m\u001b[38;5;241;43m.\u001b[39;49m\u001b[43mastype\u001b[49m\u001b[43m(\u001b[49m\u001b[38;5;124;43m'\u001b[39;49m\u001b[38;5;124;43mint64\u001b[39;49m\u001b[38;5;124;43m'\u001b[39;49m\u001b[43m)\u001b[49m\n",
      "File \u001b[1;32mc:\\Users\\vanee\\Downloads\\conda\\envs\\intro\\Lib\\site-packages\\pandas\\core\\generic.py:6643\u001b[0m, in \u001b[0;36mNDFrame.astype\u001b[1;34m(self, dtype, copy, errors)\u001b[0m\n\u001b[0;32m   6637\u001b[0m     results \u001b[38;5;241m=\u001b[39m [\n\u001b[0;32m   6638\u001b[0m         ser\u001b[38;5;241m.\u001b[39mastype(dtype, copy\u001b[38;5;241m=\u001b[39mcopy, errors\u001b[38;5;241m=\u001b[39merrors) \u001b[38;5;28;01mfor\u001b[39;00m _, ser \u001b[38;5;129;01min\u001b[39;00m \u001b[38;5;28mself\u001b[39m\u001b[38;5;241m.\u001b[39mitems()\n\u001b[0;32m   6639\u001b[0m     ]\n\u001b[0;32m   6641\u001b[0m \u001b[38;5;28;01melse\u001b[39;00m:\n\u001b[0;32m   6642\u001b[0m     \u001b[38;5;66;03m# else, only a single dtype is given\u001b[39;00m\n\u001b[1;32m-> 6643\u001b[0m     new_data \u001b[38;5;241m=\u001b[39m \u001b[38;5;28;43mself\u001b[39;49m\u001b[38;5;241;43m.\u001b[39;49m\u001b[43m_mgr\u001b[49m\u001b[38;5;241;43m.\u001b[39;49m\u001b[43mastype\u001b[49m\u001b[43m(\u001b[49m\u001b[43mdtype\u001b[49m\u001b[38;5;241;43m=\u001b[39;49m\u001b[43mdtype\u001b[49m\u001b[43m,\u001b[49m\u001b[43m \u001b[49m\u001b[43mcopy\u001b[49m\u001b[38;5;241;43m=\u001b[39;49m\u001b[43mcopy\u001b[49m\u001b[43m,\u001b[49m\u001b[43m \u001b[49m\u001b[43merrors\u001b[49m\u001b[38;5;241;43m=\u001b[39;49m\u001b[43merrors\u001b[49m\u001b[43m)\u001b[49m\n\u001b[0;32m   6644\u001b[0m     res \u001b[38;5;241m=\u001b[39m \u001b[38;5;28mself\u001b[39m\u001b[38;5;241m.\u001b[39m_constructor_from_mgr(new_data, axes\u001b[38;5;241m=\u001b[39mnew_data\u001b[38;5;241m.\u001b[39maxes)\n\u001b[0;32m   6645\u001b[0m     \u001b[38;5;28;01mreturn\u001b[39;00m res\u001b[38;5;241m.\u001b[39m__finalize__(\u001b[38;5;28mself\u001b[39m, method\u001b[38;5;241m=\u001b[39m\u001b[38;5;124m\"\u001b[39m\u001b[38;5;124mastype\u001b[39m\u001b[38;5;124m\"\u001b[39m)\n",
      "File \u001b[1;32mc:\\Users\\vanee\\Downloads\\conda\\envs\\intro\\Lib\\site-packages\\pandas\\core\\internals\\managers.py:430\u001b[0m, in \u001b[0;36mBaseBlockManager.astype\u001b[1;34m(self, dtype, copy, errors)\u001b[0m\n\u001b[0;32m    427\u001b[0m \u001b[38;5;28;01melif\u001b[39;00m using_copy_on_write():\n\u001b[0;32m    428\u001b[0m     copy \u001b[38;5;241m=\u001b[39m \u001b[38;5;28;01mFalse\u001b[39;00m\n\u001b[1;32m--> 430\u001b[0m \u001b[38;5;28;01mreturn\u001b[39;00m \u001b[38;5;28;43mself\u001b[39;49m\u001b[38;5;241;43m.\u001b[39;49m\u001b[43mapply\u001b[49m\u001b[43m(\u001b[49m\n\u001b[0;32m    431\u001b[0m \u001b[43m    \u001b[49m\u001b[38;5;124;43m\"\u001b[39;49m\u001b[38;5;124;43mastype\u001b[39;49m\u001b[38;5;124;43m\"\u001b[39;49m\u001b[43m,\u001b[49m\n\u001b[0;32m    432\u001b[0m \u001b[43m    \u001b[49m\u001b[43mdtype\u001b[49m\u001b[38;5;241;43m=\u001b[39;49m\u001b[43mdtype\u001b[49m\u001b[43m,\u001b[49m\n\u001b[0;32m    433\u001b[0m \u001b[43m    \u001b[49m\u001b[43mcopy\u001b[49m\u001b[38;5;241;43m=\u001b[39;49m\u001b[43mcopy\u001b[49m\u001b[43m,\u001b[49m\n\u001b[0;32m    434\u001b[0m \u001b[43m    \u001b[49m\u001b[43merrors\u001b[49m\u001b[38;5;241;43m=\u001b[39;49m\u001b[43merrors\u001b[49m\u001b[43m,\u001b[49m\n\u001b[0;32m    435\u001b[0m \u001b[43m    \u001b[49m\u001b[43musing_cow\u001b[49m\u001b[38;5;241;43m=\u001b[39;49m\u001b[43musing_copy_on_write\u001b[49m\u001b[43m(\u001b[49m\u001b[43m)\u001b[49m\u001b[43m,\u001b[49m\n\u001b[0;32m    436\u001b[0m \u001b[43m\u001b[49m\u001b[43m)\u001b[49m\n",
      "File \u001b[1;32mc:\\Users\\vanee\\Downloads\\conda\\envs\\intro\\Lib\\site-packages\\pandas\\core\\internals\\managers.py:363\u001b[0m, in \u001b[0;36mBaseBlockManager.apply\u001b[1;34m(self, f, align_keys, **kwargs)\u001b[0m\n\u001b[0;32m    361\u001b[0m         applied \u001b[38;5;241m=\u001b[39m b\u001b[38;5;241m.\u001b[39mapply(f, \u001b[38;5;241m*\u001b[39m\u001b[38;5;241m*\u001b[39mkwargs)\n\u001b[0;32m    362\u001b[0m     \u001b[38;5;28;01melse\u001b[39;00m:\n\u001b[1;32m--> 363\u001b[0m         applied \u001b[38;5;241m=\u001b[39m \u001b[38;5;28;43mgetattr\u001b[39;49m\u001b[43m(\u001b[49m\u001b[43mb\u001b[49m\u001b[43m,\u001b[49m\u001b[43m \u001b[49m\u001b[43mf\u001b[49m\u001b[43m)\u001b[49m\u001b[43m(\u001b[49m\u001b[38;5;241;43m*\u001b[39;49m\u001b[38;5;241;43m*\u001b[39;49m\u001b[43mkwargs\u001b[49m\u001b[43m)\u001b[49m\n\u001b[0;32m    364\u001b[0m     result_blocks \u001b[38;5;241m=\u001b[39m extend_blocks(applied, result_blocks)\n\u001b[0;32m    366\u001b[0m out \u001b[38;5;241m=\u001b[39m \u001b[38;5;28mtype\u001b[39m(\u001b[38;5;28mself\u001b[39m)\u001b[38;5;241m.\u001b[39mfrom_blocks(result_blocks, \u001b[38;5;28mself\u001b[39m\u001b[38;5;241m.\u001b[39maxes)\n",
      "File \u001b[1;32mc:\\Users\\vanee\\Downloads\\conda\\envs\\intro\\Lib\\site-packages\\pandas\\core\\internals\\blocks.py:758\u001b[0m, in \u001b[0;36mBlock.astype\u001b[1;34m(self, dtype, copy, errors, using_cow, squeeze)\u001b[0m\n\u001b[0;32m    755\u001b[0m         \u001b[38;5;28;01mraise\u001b[39;00m \u001b[38;5;167;01mValueError\u001b[39;00m(\u001b[38;5;124m\"\u001b[39m\u001b[38;5;124mCan not squeeze with more than one column.\u001b[39m\u001b[38;5;124m\"\u001b[39m)\n\u001b[0;32m    756\u001b[0m     values \u001b[38;5;241m=\u001b[39m values[\u001b[38;5;241m0\u001b[39m, :]  \u001b[38;5;66;03m# type: ignore[call-overload]\u001b[39;00m\n\u001b[1;32m--> 758\u001b[0m new_values \u001b[38;5;241m=\u001b[39m \u001b[43mastype_array_safe\u001b[49m\u001b[43m(\u001b[49m\u001b[43mvalues\u001b[49m\u001b[43m,\u001b[49m\u001b[43m \u001b[49m\u001b[43mdtype\u001b[49m\u001b[43m,\u001b[49m\u001b[43m \u001b[49m\u001b[43mcopy\u001b[49m\u001b[38;5;241;43m=\u001b[39;49m\u001b[43mcopy\u001b[49m\u001b[43m,\u001b[49m\u001b[43m \u001b[49m\u001b[43merrors\u001b[49m\u001b[38;5;241;43m=\u001b[39;49m\u001b[43merrors\u001b[49m\u001b[43m)\u001b[49m\n\u001b[0;32m    760\u001b[0m new_values \u001b[38;5;241m=\u001b[39m maybe_coerce_values(new_values)\n\u001b[0;32m    762\u001b[0m refs \u001b[38;5;241m=\u001b[39m \u001b[38;5;28;01mNone\u001b[39;00m\n",
      "File \u001b[1;32mc:\\Users\\vanee\\Downloads\\conda\\envs\\intro\\Lib\\site-packages\\pandas\\core\\dtypes\\astype.py:237\u001b[0m, in \u001b[0;36mastype_array_safe\u001b[1;34m(values, dtype, copy, errors)\u001b[0m\n\u001b[0;32m    234\u001b[0m     dtype \u001b[38;5;241m=\u001b[39m dtype\u001b[38;5;241m.\u001b[39mnumpy_dtype\n\u001b[0;32m    236\u001b[0m \u001b[38;5;28;01mtry\u001b[39;00m:\n\u001b[1;32m--> 237\u001b[0m     new_values \u001b[38;5;241m=\u001b[39m \u001b[43mastype_array\u001b[49m\u001b[43m(\u001b[49m\u001b[43mvalues\u001b[49m\u001b[43m,\u001b[49m\u001b[43m \u001b[49m\u001b[43mdtype\u001b[49m\u001b[43m,\u001b[49m\u001b[43m \u001b[49m\u001b[43mcopy\u001b[49m\u001b[38;5;241;43m=\u001b[39;49m\u001b[43mcopy\u001b[49m\u001b[43m)\u001b[49m\n\u001b[0;32m    238\u001b[0m \u001b[38;5;28;01mexcept\u001b[39;00m (\u001b[38;5;167;01mValueError\u001b[39;00m, \u001b[38;5;167;01mTypeError\u001b[39;00m):\n\u001b[0;32m    239\u001b[0m     \u001b[38;5;66;03m# e.g. _astype_nansafe can fail on object-dtype of strings\u001b[39;00m\n\u001b[0;32m    240\u001b[0m     \u001b[38;5;66;03m#  trying to convert to float\u001b[39;00m\n\u001b[0;32m    241\u001b[0m     \u001b[38;5;28;01mif\u001b[39;00m errors \u001b[38;5;241m==\u001b[39m \u001b[38;5;124m\"\u001b[39m\u001b[38;5;124mignore\u001b[39m\u001b[38;5;124m\"\u001b[39m:\n",
      "File \u001b[1;32mc:\\Users\\vanee\\Downloads\\conda\\envs\\intro\\Lib\\site-packages\\pandas\\core\\dtypes\\astype.py:182\u001b[0m, in \u001b[0;36mastype_array\u001b[1;34m(values, dtype, copy)\u001b[0m\n\u001b[0;32m    179\u001b[0m     values \u001b[38;5;241m=\u001b[39m values\u001b[38;5;241m.\u001b[39mastype(dtype, copy\u001b[38;5;241m=\u001b[39mcopy)\n\u001b[0;32m    181\u001b[0m \u001b[38;5;28;01melse\u001b[39;00m:\n\u001b[1;32m--> 182\u001b[0m     values \u001b[38;5;241m=\u001b[39m \u001b[43m_astype_nansafe\u001b[49m\u001b[43m(\u001b[49m\u001b[43mvalues\u001b[49m\u001b[43m,\u001b[49m\u001b[43m \u001b[49m\u001b[43mdtype\u001b[49m\u001b[43m,\u001b[49m\u001b[43m \u001b[49m\u001b[43mcopy\u001b[49m\u001b[38;5;241;43m=\u001b[39;49m\u001b[43mcopy\u001b[49m\u001b[43m)\u001b[49m\n\u001b[0;32m    184\u001b[0m \u001b[38;5;66;03m# in pandas we don't store numpy str dtypes, so convert to object\u001b[39;00m\n\u001b[0;32m    185\u001b[0m \u001b[38;5;28;01mif\u001b[39;00m \u001b[38;5;28misinstance\u001b[39m(dtype, np\u001b[38;5;241m.\u001b[39mdtype) \u001b[38;5;129;01mand\u001b[39;00m \u001b[38;5;28missubclass\u001b[39m(values\u001b[38;5;241m.\u001b[39mdtype\u001b[38;5;241m.\u001b[39mtype, \u001b[38;5;28mstr\u001b[39m):\n",
      "File \u001b[1;32mc:\\Users\\vanee\\Downloads\\conda\\envs\\intro\\Lib\\site-packages\\pandas\\core\\dtypes\\astype.py:133\u001b[0m, in \u001b[0;36m_astype_nansafe\u001b[1;34m(arr, dtype, copy, skipna)\u001b[0m\n\u001b[0;32m    129\u001b[0m     \u001b[38;5;28;01mraise\u001b[39;00m \u001b[38;5;167;01mValueError\u001b[39;00m(msg)\n\u001b[0;32m    131\u001b[0m \u001b[38;5;28;01mif\u001b[39;00m copy \u001b[38;5;129;01mor\u001b[39;00m arr\u001b[38;5;241m.\u001b[39mdtype \u001b[38;5;241m==\u001b[39m \u001b[38;5;28mobject\u001b[39m \u001b[38;5;129;01mor\u001b[39;00m dtype \u001b[38;5;241m==\u001b[39m \u001b[38;5;28mobject\u001b[39m:\n\u001b[0;32m    132\u001b[0m     \u001b[38;5;66;03m# Explicit copy, or required since NumPy can't view from / to object.\u001b[39;00m\n\u001b[1;32m--> 133\u001b[0m     \u001b[38;5;28;01mreturn\u001b[39;00m \u001b[43marr\u001b[49m\u001b[38;5;241;43m.\u001b[39;49m\u001b[43mastype\u001b[49m\u001b[43m(\u001b[49m\u001b[43mdtype\u001b[49m\u001b[43m,\u001b[49m\u001b[43m \u001b[49m\u001b[43mcopy\u001b[49m\u001b[38;5;241;43m=\u001b[39;49m\u001b[38;5;28;43;01mTrue\u001b[39;49;00m\u001b[43m)\u001b[49m\n\u001b[0;32m    135\u001b[0m \u001b[38;5;28;01mreturn\u001b[39;00m arr\u001b[38;5;241m.\u001b[39mastype(dtype, copy\u001b[38;5;241m=\u001b[39mcopy)\n",
      "\u001b[1;31mValueError\u001b[0m: invalid literal for int() with base 10: ' 1}, {indvscore: 8, reviewer: AlbertP., date_published: Jul 13, 2009, review_text: Until last night, until Bruno, The Hangover was the funniest movie I, thumbs_up: 0, thumbs_total: 1}, {indvscore: 9,"
     ]
    }
   ],
   "source": [
    "# converting numeric columns from string to int\n",
    "#user_reviews[['idvscore']] = user_reviews[['idvscore']].fillna(0).astype('float64')\n",
    "user_reviews_exploded[['thumbsTot']] = user_reviews_exploded[['thumbsTot']].fillna(0).astype('int64')"
   ]
  },
  {
   "cell_type": "code",
   "execution_count": null,
   "metadata": {},
   "outputs": [
    {
     "name": "stdout",
     "output_type": "stream",
     "text": [
      "<class 'pandas.core.frame.DataFrame'>\n",
      "Index: 316254 entries, 0 to 319661\n",
      "Data columns (total 7 columns):\n",
      " #   Column     Non-Null Count   Dtype \n",
      "---  ------     --------------   ----- \n",
      " 0   url        316254 non-null  object\n",
      " 1   idvscore   316254 non-null  int64 \n",
      " 2   reviewer   316254 non-null  object\n",
      " 3   dateP      316254 non-null  object\n",
      " 4   Rev        316254 non-null  object\n",
      " 5   thumbsUp   316254 non-null  int64 \n",
      " 6   thumbsTot  316254 non-null  int64 \n",
      "dtypes: int64(3), object(4)\n",
      "memory usage: 19.3+ MB\n"
     ]
    }
   ],
   "source": [
    "user_reviews.info()"
   ]
  },
  {
   "cell_type": "code",
   "execution_count": null,
   "metadata": {},
   "outputs": [
    {
     "ename": "NameError",
     "evalue": "name 'user_reviews' is not defined",
     "output_type": "error",
     "traceback": [
      "\u001b[1;31m---------------------------------------------------------------------------\u001b[0m",
      "\u001b[1;31mNameError\u001b[0m                                 Traceback (most recent call last)",
      "Cell \u001b[1;32mIn[6], line 1\u001b[0m\n\u001b[1;32m----> 1\u001b[0m \u001b[38;5;28mprint\u001b[39m(\u001b[38;5;124m'\u001b[39m\u001b[38;5;124mPrinting total number of NaNs in the dataframe,\u001b[39m\u001b[38;5;124m'\u001b[39m, \u001b[43muser_reviews\u001b[49m\u001b[38;5;241m.\u001b[39misnull()\u001b[38;5;241m.\u001b[39msum()\u001b[38;5;241m.\u001b[39msum())\n",
      "\u001b[1;31mNameError\u001b[0m: name 'user_reviews' is not defined"
     ]
    }
   ],
   "source": [
    "print('Printing total number of NaNs in the dataframe,', user_reviews.isnull().sum().sum())"
   ]
  },
  {
   "cell_type": "code",
   "execution_count": null,
   "metadata": {},
   "outputs": [],
   "source": [
    "# preliminary descriptive statistics\n",
    "user_reviews.describe()"
   ]
  }
 ],
 "metadata": {
  "kernelspec": {
   "display_name": "intro",
   "language": "python",
   "name": "python3"
  },
  "language_info": {
   "codemirror_mode": {
    "name": "ipython",
    "version": 3
   },
   "file_extension": ".py",
   "mimetype": "text/x-python",
   "name": "python",
   "nbconvert_exporter": "python",
   "pygments_lexer": "ipython3",
   "version": "3.11.9"
  }
 },
 "nbformat": 4,
 "nbformat_minor": 2
}
