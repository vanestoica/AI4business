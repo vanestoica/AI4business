{
 "cells": [
  {
   "cell_type": "code",
   "execution_count": 36,
   "metadata": {},
   "outputs": [],
   "source": [
    "import pandas as pd"
   ]
  },
  {
   "cell_type": "code",
   "execution_count": 37,
   "metadata": {},
   "outputs": [],
   "source": [
    "# loading the data\n",
    "user_reviews_path = \"C:/Users/vanee/OneDrive/Documents/AI/UserReviews.xlsx\"\n",
    "expert_reviews_path = \"C:/Users/vanee/OneDrive/Documents/AI/ExpertReviews.xlsx\"\n",
    "meta_clean_path = \"C:/Users/vanee/OneDrive/Documents/AI/metaClean43Brightspace.xlsx\"\n",
    "sales_path = \"C:/Users/vanee/OneDrive/Documents/AI/sales.xlsx\"\n",
    "\n",
    "# reading the files\n",
    "user_reviews = pd.read_excel(user_reviews_path)\n",
    "#expert_reviews = pd.read_excel(expert_reviews_path)\n",
    "#meta_clean = pd.read_excel(meta_clean_path)\n",
    "#sales = pd.read_excel(sales_path)"
   ]
  },
  {
   "cell_type": "code",
   "execution_count": 38,
   "metadata": {},
   "outputs": [
    {
     "data": {
      "text/html": [
       "<div>\n",
       "<style scoped>\n",
       "    .dataframe tbody tr th:only-of-type {\n",
       "        vertical-align: middle;\n",
       "    }\n",
       "\n",
       "    .dataframe tbody tr th {\n",
       "        vertical-align: top;\n",
       "    }\n",
       "\n",
       "    .dataframe thead th {\n",
       "        text-align: right;\n",
       "    }\n",
       "</style>\n",
       "<table border=\"1\" class=\"dataframe\">\n",
       "  <thead>\n",
       "    <tr style=\"text-align: right;\">\n",
       "      <th></th>\n",
       "      <th>url</th>\n",
       "      <th>idvscore</th>\n",
       "      <th>reviewer</th>\n",
       "      <th>dateP</th>\n",
       "      <th>Rev</th>\n",
       "      <th>thumbsUp</th>\n",
       "      <th>thumbsTot</th>\n",
       "    </tr>\n",
       "  </thead>\n",
       "  <tbody>\n",
       "    <tr>\n",
       "      <th>0</th>\n",
       "      <td>https://www.metacritic.com/movie/bronson</td>\n",
       "      <td>8</td>\n",
       "      <td>'Longbottom94'</td>\n",
       "      <td>'Apr 25, 2013'</td>\n",
       "      <td>'Many have dismissed this film for not explor...</td>\n",
       "      <td>2</td>\n",
       "      <td>2</td>\n",
       "    </tr>\n",
       "    <tr>\n",
       "      <th>1</th>\n",
       "      <td>https://www.metacritic.com/movie/bronson</td>\n",
       "      <td>9</td>\n",
       "      <td>'MartinB'</td>\n",
       "      <td>'Oct 13, 2009'</td>\n",
       "      <td>'Anyone who doesn t like this movie simply ju...</td>\n",
       "      <td>0</td>\n",
       "      <td>1</td>\n",
       "    </tr>\n",
       "    <tr>\n",
       "      <th>2</th>\n",
       "      <td>https://www.metacritic.com/movie/bronson</td>\n",
       "      <td>10</td>\n",
       "      <td>'Jaakko'</td>\n",
       "      <td>'Jul 19, 2012'</td>\n",
       "      <td>'Not sure what to think at this film at first...</td>\n",
       "      <td>1</td>\n",
       "      <td>1</td>\n",
       "    </tr>\n",
       "    <tr>\n",
       "      <th>3</th>\n",
       "      <td>https://www.metacritic.com/movie/bronson</td>\n",
       "      <td>6</td>\n",
       "      <td>'CapoR'</td>\n",
       "      <td>'Oct 13, 2009'</td>\n",
       "      <td>'Nicely portrayed but it lacks the elements t...</td>\n",
       "      <td>0</td>\n",
       "      <td>1</td>\n",
       "    </tr>\n",
       "    <tr>\n",
       "      <th>4</th>\n",
       "      <td>https://www.metacritic.com/movie/bronson</td>\n",
       "      <td>8</td>\n",
       "      <td>'OrwellB.'</td>\n",
       "      <td>'Oct 10, 2009'</td>\n",
       "      <td>'Bronson is more than entertainment. It is ar...</td>\n",
       "      <td>0</td>\n",
       "      <td>0</td>\n",
       "    </tr>\n",
       "  </tbody>\n",
       "</table>\n",
       "</div>"
      ],
      "text/plain": [
       "                                        url idvscore         reviewer  \\\n",
       "0  https://www.metacritic.com/movie/bronson        8   'Longbottom94'   \n",
       "1  https://www.metacritic.com/movie/bronson        9        'MartinB'   \n",
       "2  https://www.metacritic.com/movie/bronson       10         'Jaakko'   \n",
       "3  https://www.metacritic.com/movie/bronson        6          'CapoR'   \n",
       "4  https://www.metacritic.com/movie/bronson        8       'OrwellB.'   \n",
       "\n",
       "             dateP                                                Rev  \\\n",
       "0   'Apr 25, 2013'   'Many have dismissed this film for not explor...   \n",
       "1   'Oct 13, 2009'   'Anyone who doesn t like this movie simply ju...   \n",
       "2   'Jul 19, 2012'   'Not sure what to think at this film at first...   \n",
       "3   'Oct 13, 2009'   'Nicely portrayed but it lacks the elements t...   \n",
       "4   'Oct 10, 2009'   'Bronson is more than entertainment. It is ar...   \n",
       "\n",
       "  thumbsUp thumbsTot  \n",
       "0        2         2  \n",
       "1        0         1  \n",
       "2        1         1  \n",
       "3        0         1  \n",
       "4        0         0  "
      ]
     },
     "execution_count": 38,
     "metadata": {},
     "output_type": "execute_result"
    }
   ],
   "source": [
    "# check the first few rows of user reviews\n",
    "user_reviews.head()"
   ]
  },
  {
   "cell_type": "code",
   "execution_count": 39,
   "metadata": {},
   "outputs": [
    {
     "name": "stdout",
     "output_type": "stream",
     "text": [
      "<class 'pandas.core.frame.DataFrame'>\n",
      "RangeIndex: 319662 entries, 0 to 319661\n",
      "Data columns (total 7 columns):\n",
      " #   Column     Non-Null Count   Dtype \n",
      "---  ------     --------------   ----- \n",
      " 0   url        319662 non-null  object\n",
      " 1   idvscore   316258 non-null  object\n",
      " 2   reviewer   316255 non-null  object\n",
      " 3   dateP      316249 non-null  object\n",
      " 4   Rev        316249 non-null  object\n",
      " 5   thumbsUp   316082 non-null  object\n",
      " 6   thumbsTot  316086 non-null  object\n",
      "dtypes: object(7)\n",
      "memory usage: 17.1+ MB\n"
     ]
    }
   ],
   "source": [
    "user_reviews.info()"
   ]
  },
  {
   "cell_type": "code",
   "execution_count": 40,
   "metadata": {},
   "outputs": [
    {
     "data": {
      "text/html": [
       "<div>\n",
       "<style scoped>\n",
       "    .dataframe tbody tr th:only-of-type {\n",
       "        vertical-align: middle;\n",
       "    }\n",
       "\n",
       "    .dataframe tbody tr th {\n",
       "        vertical-align: top;\n",
       "    }\n",
       "\n",
       "    .dataframe thead th {\n",
       "        text-align: right;\n",
       "    }\n",
       "</style>\n",
       "<table border=\"1\" class=\"dataframe\">\n",
       "  <thead>\n",
       "    <tr style=\"text-align: right;\">\n",
       "      <th></th>\n",
       "      <th>url</th>\n",
       "      <th>idvscore</th>\n",
       "      <th>reviewer</th>\n",
       "      <th>dateP</th>\n",
       "      <th>Rev</th>\n",
       "      <th>thumbsUp</th>\n",
       "      <th>thumbsTot</th>\n",
       "    </tr>\n",
       "  </thead>\n",
       "  <tbody>\n",
       "    <tr>\n",
       "      <th>count</th>\n",
       "      <td>319662</td>\n",
       "      <td>316258</td>\n",
       "      <td>316255</td>\n",
       "      <td>316249</td>\n",
       "      <td>316249</td>\n",
       "      <td>316082</td>\n",
       "      <td>316086</td>\n",
       "    </tr>\n",
       "    <tr>\n",
       "      <th>unique</th>\n",
       "      <td>11364</td>\n",
       "      <td>16</td>\n",
       "      <td>106795</td>\n",
       "      <td>6489</td>\n",
       "      <td>311558</td>\n",
       "      <td>209</td>\n",
       "      <td>287</td>\n",
       "    </tr>\n",
       "    <tr>\n",
       "      <th>top</th>\n",
       "      <td>https://www.metacritic.com/movie/joker</td>\n",
       "      <td>10</td>\n",
       "      <td>'TVJerry'</td>\n",
       "      <td>'Mar 8, 2019'</td>\n",
       "      <td>''</td>\n",
       "      <td>0</td>\n",
       "      <td>0</td>\n",
       "    </tr>\n",
       "    <tr>\n",
       "      <th>freq</th>\n",
       "      <td>2764</td>\n",
       "      <td>74562</td>\n",
       "      <td>1626</td>\n",
       "      <td>878</td>\n",
       "      <td>773</td>\n",
       "      <td>197106</td>\n",
       "      <td>147659</td>\n",
       "    </tr>\n",
       "  </tbody>\n",
       "</table>\n",
       "</div>"
      ],
      "text/plain": [
       "                                           url  idvscore    reviewer  \\\n",
       "count                                   319662    316258      316255   \n",
       "unique                                   11364        16      106795   \n",
       "top     https://www.metacritic.com/movie/joker        10   'TVJerry'   \n",
       "freq                                      2764     74562        1626   \n",
       "\n",
       "                 dateP     Rev  thumbsUp  thumbsTot  \n",
       "count           316249  316249    316082     316086  \n",
       "unique            6489  311558       209        287  \n",
       "top      'Mar 8, 2019'      ''         0          0  \n",
       "freq               878     773    197106     147659  "
      ]
     },
     "execution_count": 40,
     "metadata": {},
     "output_type": "execute_result"
    }
   ],
   "source": [
    "# summary statistics of user reviews\n",
    "user_reviews.describe()"
   ]
  },
  {
   "cell_type": "code",
   "execution_count": 41,
   "metadata": {},
   "outputs": [
    {
     "data": {
      "text/plain": [
       "url             0\n",
       "idvscore     3404\n",
       "reviewer     3407\n",
       "dateP        3413\n",
       "Rev          3413\n",
       "thumbsUp     3580\n",
       "thumbsTot    3576\n",
       "dtype: int64"
      ]
     },
     "execution_count": 41,
     "metadata": {},
     "output_type": "execute_result"
    }
   ],
   "source": [
    "# check for missing values user reviews\n",
    "user_reviews.isnull().sum()"
   ]
  },
  {
   "cell_type": "code",
   "execution_count": 42,
   "metadata": {},
   "outputs": [
    {
     "data": {
      "text/plain": [
       "11364"
      ]
     },
     "execution_count": 42,
     "metadata": {},
     "output_type": "execute_result"
    }
   ],
   "source": [
    "user_reviews['url'].nunique()"
   ]
  },
  {
   "cell_type": "code",
   "execution_count": 43,
   "metadata": {},
   "outputs": [
    {
     "name": "stdout",
     "output_type": "stream",
     "text": [
      "                                                      url idvscore reviewer  \\\n",
      "29       https://www.metacritic.com/movie/a-screaming-man      NaN      NaN   \n",
      "30        https://www.metacritic.com/movie/lovers-of-hate      NaN      NaN   \n",
      "34            https://www.metacritic.com/movie/viva-riva!      NaN      NaN   \n",
      "130         https://www.metacritic.com/movie/september-11      NaN      NaN   \n",
      "134         https://www.metacritic.com/movie/catching-out      NaN      NaN   \n",
      "...                                                   ...      ...      ...   \n",
      "318596  https://www.metacritic.com/movie/domestic-viol...      NaN      NaN   \n",
      "318841   https://www.metacritic.com/movie/giorni-e-nuvole      NaN      NaN   \n",
      "318842  https://www.metacritic.com/movie/the-last-mist...      NaN      NaN   \n",
      "319108             https://www.metacritic.com/movie/iousa      NaN      NaN   \n",
      "319139      https://www.metacritic.com/movie/frontrunners      NaN      NaN   \n",
      "\n",
      "       dateP  Rev thumbsUp thumbsTot  \n",
      "29       NaN  NaN      NaN       NaN  \n",
      "30       NaN  NaN      NaN       NaN  \n",
      "34       NaN  NaN      NaN       NaN  \n",
      "130      NaN  NaN      NaN       NaN  \n",
      "134      NaN  NaN      NaN       NaN  \n",
      "...      ...  ...      ...       ...  \n",
      "318596   NaN  NaN      NaN       NaN  \n",
      "318841   NaN  NaN      NaN       NaN  \n",
      "318842   NaN  NaN      NaN       NaN  \n",
      "319108   NaN  NaN      NaN       NaN  \n",
      "319139   NaN  NaN      NaN       NaN  \n",
      "\n",
      "[3409 rows x 7 columns]\n"
     ]
    }
   ],
   "source": [
    "#user_reviews['idvscore'].fillna(user_reviews['idvscore'].median(), inplace=True)\n",
    "\n",
    "# checking non-numeric values for idvscore column\n",
    "non_numeric_values = user_reviews[~user_reviews['idvscore'].apply(pd.to_numeric, errors='coerce').notnull()]\n",
    "print(non_numeric_values)"
   ]
  },
  {
   "cell_type": "code",
   "execution_count": 44,
   "metadata": {},
   "outputs": [
    {
     "name": "stdout",
     "output_type": "stream",
     "text": [
      "url            0\n",
      "idvscore       0\n",
      "reviewer       0\n",
      "dateP          5\n",
      "Rev            5\n",
      "thumbsUp     173\n",
      "thumbsTot    172\n",
      "dtype: int64\n"
     ]
    }
   ],
   "source": [
    "# drop columns with NaN values for both idvscore & reviewer\n",
    "user_reviews.dropna(subset=['idvscore', 'reviewer'], inplace=True)\n",
    "\n",
    "# checking for remaining null values\n",
    "print(user_reviews.isnull().sum())"
   ]
  },
  {
   "cell_type": "code",
   "execution_count": 46,
   "metadata": {},
   "outputs": [
    {
     "name": "stderr",
     "output_type": "stream",
     "text": [
      "C:\\Users\\vanee\\AppData\\Local\\Temp\\ipykernel_33740\\4001281752.py:2: FutureWarning: Downcasting object dtype arrays on .fillna, .ffill, .bfill is deprecated and will change in a future version. Call result.infer_objects(copy=False) instead. To opt-in to the future behavior, set `pd.set_option('future.no_silent_downcasting', True)`\n",
      "  user_reviews['thumbsUp'] = user_reviews['thumbsUp'].fillna(0)\n"
     ]
    },
    {
     "data": {
      "text/plain": [
       "url          0\n",
       "idvscore     0\n",
       "reviewer     0\n",
       "dateP        0\n",
       "Rev          0\n",
       "thumbsUp     0\n",
       "thumbsTot    0\n",
       "dtype: int64"
      ]
     },
     "execution_count": 46,
     "metadata": {},
     "output_type": "execute_result"
    }
   ],
   "source": [
    "# replacing NaN values with 0\n",
    "user_reviews['thumbsUp'] = user_reviews['thumbsUp'].fillna(0)\n",
    "user_reviews['thumbsTot'] = user_reviews['thumbsTot'].fillna(0)\n",
    "\n",
    "# replace missing Rev values\n",
    "user_reviews['Rev'] = user_reviews['Rev'].fillna('No review provided')\n",
    "\n",
    "# replace missing dateP values\n",
    "user_reviews['dateP'] = user_reviews['dateP'].fillna('Unknown')\n",
    "\n",
    "# checking for null values again\n",
    "user_reviews.isnull().sum()"
   ]
  },
  {
   "cell_type": "code",
   "execution_count": 47,
   "metadata": {},
   "outputs": [
    {
     "name": "stdout",
     "output_type": "stream",
     "text": [
      "<class 'pandas.core.frame.DataFrame'>\n",
      "Index: 316254 entries, 0 to 319661\n",
      "Data columns (total 7 columns):\n",
      " #   Column     Non-Null Count   Dtype \n",
      "---  ------     --------------   ----- \n",
      " 0   url        316254 non-null  object\n",
      " 1   idvscore   316254 non-null  object\n",
      " 2   reviewer   316254 non-null  object\n",
      " 3   dateP      316254 non-null  object\n",
      " 4   Rev        316254 non-null  object\n",
      " 5   thumbsUp   316254 non-null  int64 \n",
      " 6   thumbsTot  316254 non-null  object\n",
      "dtypes: int64(1), object(6)\n",
      "memory usage: 19.3+ MB\n"
     ]
    }
   ],
   "source": [
    "user_reviews.info()"
   ]
  },
  {
   "cell_type": "code",
   "execution_count": 51,
   "metadata": {},
   "outputs": [],
   "source": [
    "# converting numeric columns from string to int\n",
    "user_reviews[['idvscore', 'thumbsTot']] = user_reviews[['idvscore', 'thumbsTot']].fillna(0).astype('int64')"
   ]
  },
  {
   "cell_type": "code",
   "execution_count": 52,
   "metadata": {},
   "outputs": [
    {
     "name": "stdout",
     "output_type": "stream",
     "text": [
      "<class 'pandas.core.frame.DataFrame'>\n",
      "Index: 316254 entries, 0 to 319661\n",
      "Data columns (total 7 columns):\n",
      " #   Column     Non-Null Count   Dtype \n",
      "---  ------     --------------   ----- \n",
      " 0   url        316254 non-null  object\n",
      " 1   idvscore   316254 non-null  int64 \n",
      " 2   reviewer   316254 non-null  object\n",
      " 3   dateP      316254 non-null  object\n",
      " 4   Rev        316254 non-null  object\n",
      " 5   thumbsUp   316254 non-null  int64 \n",
      " 6   thumbsTot  316254 non-null  int64 \n",
      "dtypes: int64(3), object(4)\n",
      "memory usage: 19.3+ MB\n"
     ]
    }
   ],
   "source": [
    "user_reviews.info()"
   ]
  }
 ],
 "metadata": {
  "kernelspec": {
   "display_name": "intro",
   "language": "python",
   "name": "python3"
  },
  "language_info": {
   "codemirror_mode": {
    "name": "ipython",
    "version": 3
   },
   "file_extension": ".py",
   "mimetype": "text/x-python",
   "name": "python",
   "nbconvert_exporter": "python",
   "pygments_lexer": "ipython3",
   "version": "3.11.9"
  }
 },
 "nbformat": 4,
 "nbformat_minor": 2
}
