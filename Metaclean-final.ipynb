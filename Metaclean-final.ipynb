{
 "cells": [
  {
   "cell_type": "code",
   "execution_count": 2,
   "metadata": {},
   "outputs": [],
   "source": [
    "#importing basic libraries \n",
    "# Source - (Stack overflow, n.d.)\n",
    "import numpy as np\n",
    "import pandas as pd"
   ]
  },
  {
   "cell_type": "code",
   "execution_count": 3,
   "metadata": {},
   "outputs": [
    {
     "data": {
      "text/html": [
       "<div>\n",
       "<style scoped>\n",
       "    .dataframe tbody tr th:only-of-type {\n",
       "        vertical-align: middle;\n",
       "    }\n",
       "\n",
       "    .dataframe tbody tr th {\n",
       "        vertical-align: top;\n",
       "    }\n",
       "\n",
       "    .dataframe thead th {\n",
       "        text-align: right;\n",
       "    }\n",
       "</style>\n",
       "<table border=\"1\" class=\"dataframe\">\n",
       "  <thead>\n",
       "    <tr style=\"text-align: right;\">\n",
       "      <th></th>\n",
       "      <th>url</th>\n",
       "      <th>title</th>\n",
       "      <th>studio</th>\n",
       "      <th>rating</th>\n",
       "      <th>runtime</th>\n",
       "      <th>cast</th>\n",
       "      <th>director</th>\n",
       "      <th>genre</th>\n",
       "      <th>summary</th>\n",
       "      <th>awards</th>\n",
       "      <th>metascore</th>\n",
       "      <th>userscore</th>\n",
       "      <th>RelDate</th>\n",
       "    </tr>\n",
       "  </thead>\n",
       "  <tbody>\n",
       "    <tr>\n",
       "      <th>0</th>\n",
       "      <td>https://www.metacritic.com/movie/!women-art-re...</td>\n",
       "      <td>!Women Art Revolution</td>\n",
       "      <td>Hotwire Productions</td>\n",
       "      <td>| Not Rated</td>\n",
       "      <td>83.0</td>\n",
       "      <td>NaN</td>\n",
       "      <td>Lynn Hershman-Leeson</td>\n",
       "      <td>Documentary</td>\n",
       "      <td>NaN</td>\n",
       "      <td>NaN</td>\n",
       "      <td>70</td>\n",
       "      <td>NaN</td>\n",
       "      <td>2011-06-01</td>\n",
       "    </tr>\n",
       "    <tr>\n",
       "      <th>1</th>\n",
       "      <td>https://www.metacritic.com/movie/10-cloverfiel...</td>\n",
       "      <td>10 Cloverfield Lane</td>\n",
       "      <td>Paramount Pictures</td>\n",
       "      <td>| PG-13</td>\n",
       "      <td>104.0</td>\n",
       "      <td>John Gallagher Jr.,John Goodman,Mary Elizabeth...</td>\n",
       "      <td>Dan Trachtenberg</td>\n",
       "      <td>Action,Sci-Fi,Drama,Mystery,Thriller,Horror</td>\n",
       "      <td>Waking up from a car accident, a young woman (...</td>\n",
       "      <td>#18MostDiscussedMovieof2016 , #1MostSharedMovi...</td>\n",
       "      <td>76</td>\n",
       "      <td>7.7</td>\n",
       "      <td>2016-03-11</td>\n",
       "    </tr>\n",
       "    <tr>\n",
       "      <th>2</th>\n",
       "      <td>https://www.metacritic.com/movie/10-items-or-less</td>\n",
       "      <td>10 Items or Less</td>\n",
       "      <td>Click Star</td>\n",
       "      <td>| R</td>\n",
       "      <td>82.0</td>\n",
       "      <td>Jonah Hill,Morgan Freeman,Paz Vega</td>\n",
       "      <td>Brad Silberling</td>\n",
       "      <td>Drama,Comedy,Romance</td>\n",
       "      <td>While researching a role as a supermarket mana...</td>\n",
       "      <td>NaN</td>\n",
       "      <td>54</td>\n",
       "      <td>5.8</td>\n",
       "      <td>2006-12-01</td>\n",
       "    </tr>\n",
       "    <tr>\n",
       "      <th>3</th>\n",
       "      <td>https://www.metacritic.com/movie/10-years</td>\n",
       "      <td>10 Years</td>\n",
       "      <td>Anchor Bay Entertainment</td>\n",
       "      <td>| R</td>\n",
       "      <td>100.0</td>\n",
       "      <td>Channing Tatum,Chris Pratt,Jenna Dewan</td>\n",
       "      <td>Jamie Linden</td>\n",
       "      <td>Drama,Comedy,Romance</td>\n",
       "      <td>NaN</td>\n",
       "      <td>NaN</td>\n",
       "      <td>61</td>\n",
       "      <td>6.9</td>\n",
       "      <td>2012-09-14</td>\n",
       "    </tr>\n",
       "    <tr>\n",
       "      <th>4</th>\n",
       "      <td>https://www.metacritic.com/movie/100-bloody-acres</td>\n",
       "      <td>100 Bloody Acres</td>\n",
       "      <td>Music Box Films</td>\n",
       "      <td>| Not Rated</td>\n",
       "      <td>91.0</td>\n",
       "      <td>NaN</td>\n",
       "      <td>Cameron Cairnes</td>\n",
       "      <td>Horror,Comedy</td>\n",
       "      <td>Reg and Lindsay run an organic fertilizer busi...</td>\n",
       "      <td>NaN</td>\n",
       "      <td>63</td>\n",
       "      <td>7.5</td>\n",
       "      <td>2013-06-28</td>\n",
       "    </tr>\n",
       "  </tbody>\n",
       "</table>\n",
       "</div>"
      ],
      "text/plain": [
       "                                                 url                  title  \\\n",
       "0  https://www.metacritic.com/movie/!women-art-re...  !Women Art Revolution   \n",
       "1  https://www.metacritic.com/movie/10-cloverfiel...    10 Cloverfield Lane   \n",
       "2  https://www.metacritic.com/movie/10-items-or-less       10 Items or Less   \n",
       "3          https://www.metacritic.com/movie/10-years               10 Years   \n",
       "4  https://www.metacritic.com/movie/100-bloody-acres       100 Bloody Acres   \n",
       "\n",
       "                     studio       rating  runtime  \\\n",
       "0       Hotwire Productions  | Not Rated     83.0   \n",
       "1        Paramount Pictures      | PG-13    104.0   \n",
       "2                Click Star          | R     82.0   \n",
       "3  Anchor Bay Entertainment          | R    100.0   \n",
       "4           Music Box Films  | Not Rated     91.0   \n",
       "\n",
       "                                                cast              director  \\\n",
       "0                                                NaN  Lynn Hershman-Leeson   \n",
       "1  John Gallagher Jr.,John Goodman,Mary Elizabeth...      Dan Trachtenberg   \n",
       "2                 Jonah Hill,Morgan Freeman,Paz Vega       Brad Silberling   \n",
       "3             Channing Tatum,Chris Pratt,Jenna Dewan          Jamie Linden   \n",
       "4                                                NaN       Cameron Cairnes   \n",
       "\n",
       "                                         genre  \\\n",
       "0                                  Documentary   \n",
       "1  Action,Sci-Fi,Drama,Mystery,Thriller,Horror   \n",
       "2                         Drama,Comedy,Romance   \n",
       "3                         Drama,Comedy,Romance   \n",
       "4                                Horror,Comedy   \n",
       "\n",
       "                                             summary  \\\n",
       "0                                                NaN   \n",
       "1  Waking up from a car accident, a young woman (...   \n",
       "2  While researching a role as a supermarket mana...   \n",
       "3                                                NaN   \n",
       "4  Reg and Lindsay run an organic fertilizer busi...   \n",
       "\n",
       "                                              awards  metascore  userscore  \\\n",
       "0                                                NaN         70        NaN   \n",
       "1  #18MostDiscussedMovieof2016 , #1MostSharedMovi...         76        7.7   \n",
       "2                                                NaN         54        5.8   \n",
       "3                                                NaN         61        6.9   \n",
       "4                                                NaN         63        7.5   \n",
       "\n",
       "     RelDate  \n",
       "0 2011-06-01  \n",
       "1 2016-03-11  \n",
       "2 2006-12-01  \n",
       "3 2012-09-14  \n",
       "4 2013-06-28  "
      ]
     },
     "execution_count": 3,
     "metadata": {},
     "output_type": "execute_result"
    }
   ],
   "source": [
    "#read excel file - metaClean43Brightspace\n",
    "# Source - (Stack overflow, n.d.)\n",
    "meta_clean = pd.read_excel(r\"C:\\Users\\josel\\OneDrive\\Documents\\Block 2\\Buss stats\\project\\data set 2nd version\\metaClean43Brightspace.xlsx\")\n",
    "df = pd.DataFrame(meta_clean)\n",
    "df.head()"
   ]
  },
  {
   "cell_type": "code",
   "execution_count": 18,
   "metadata": {},
   "outputs": [
    {
     "data": {
      "text/plain": [
       "Index(['url', 'title', 'studio', 'rating', 'runtime', 'cast', 'director',\n",
       "       'genre', 'summary', 'awards', 'metascore', 'userscore', 'RelDate'],\n",
       "      dtype='object')"
      ]
     },
     "execution_count": 18,
     "metadata": {},
     "output_type": "execute_result"
    }
   ],
   "source": [
    "df.columns"
   ]
  },
  {
   "cell_type": "code",
   "execution_count": 4,
   "metadata": {},
   "outputs": [
    {
     "name": "stdout",
     "output_type": "stream",
     "text": [
      "<class 'pandas.core.frame.DataFrame'>\n",
      "RangeIndex: 11364 entries, 0 to 11363\n",
      "Data columns (total 13 columns):\n",
      " #   Column     Non-Null Count  Dtype         \n",
      "---  ------     --------------  -----         \n",
      " 0   url        11364 non-null  object        \n",
      " 1   title      11364 non-null  object        \n",
      " 2   studio     11014 non-null  object        \n",
      " 3   rating     10297 non-null  object        \n",
      " 4   runtime    11109 non-null  float64       \n",
      " 5   cast       7662 non-null   object        \n",
      " 6   director   11350 non-null  object        \n",
      " 7   genre      11344 non-null  object        \n",
      " 8   summary    5467 non-null   object        \n",
      " 9   awards     4387 non-null   object        \n",
      " 10  metascore  11364 non-null  int64         \n",
      " 11  userscore  9259 non-null   float64       \n",
      " 12  RelDate    11364 non-null  datetime64[ns]\n",
      "dtypes: datetime64[ns](1), float64(2), int64(1), object(9)\n",
      "memory usage: 1.1+ MB\n"
     ]
    }
   ],
   "source": [
    "# Display summary of the data frame, including amount of non-values, data types and memory usage, \n",
    "# Source - (Eddie, 2024)\n",
    "df.info()"
   ]
  },
  {
   "cell_type": "markdown",
   "metadata": {},
   "source": [
    "Above it can be seen fromt he tabale above there are a total of 11364 row. As it can be seen column #2, 3, 4, 5, 6, 7, 8, 9 and 11 contains NaN values. "
   ]
  },
  {
   "cell_type": "code",
   "execution_count": 5,
   "metadata": {},
   "outputs": [
    {
     "name": "stdout",
     "output_type": "stream",
     "text": [
      "url             0\n",
      "title           0\n",
      "studio        350\n",
      "rating       1067\n",
      "runtime       255\n",
      "cast         3702\n",
      "director       14\n",
      "genre          20\n",
      "summary      5897\n",
      "awards       6977\n",
      "metascore       0\n",
      "userscore    2105\n",
      "RelDate         0\n",
      "dtype: int64\n"
     ]
    }
   ],
   "source": [
    "#checking for null values in the data\n",
    "# Source - (Eddie, 2024)\n",
    "print(df.isnull().sum())"
   ]
  },
  {
   "cell_type": "code",
   "execution_count": 6,
   "metadata": {},
   "outputs": [
    {
     "data": {
      "text/plain": [
       "url           0.000000\n",
       "title         0.000000\n",
       "studio        3.079901\n",
       "rating        9.389300\n",
       "runtime       2.243928\n",
       "cast         32.576558\n",
       "director      0.123196\n",
       "genre         0.175994\n",
       "summary      51.891939\n",
       "awards       61.395635\n",
       "metascore     0.000000\n",
       "userscore    18.523407\n",
       "RelDate       0.000000\n",
       "dtype: float64"
      ]
     },
     "execution_count": 6,
     "metadata": {},
     "output_type": "execute_result"
    }
   ],
   "source": [
    "# Calculate the percentage of NaN values for each column\n",
    "# Source - (Nelamali, 2024)\n",
    "NaN_Values_percentage = (df.isnull().sum() / len(df)) * 100\n",
    "\n",
    "# The variable `NaN_Values_percentage` now contains the percentages\n",
    "NaN_Values_percentage\n"
   ]
  },
  {
   "cell_type": "markdown",
   "metadata": {},
   "source": [
    "The percentages of NaN values in each column can be seen here, as these could still be usefull data. NaN values will be replaced with other values that are more suitable to each type of category. "
   ]
  },
  {
   "cell_type": "code",
   "execution_count": 7,
   "metadata": {},
   "outputs": [],
   "source": [
    "# NaN values for the studio column will be replaced or renamed as Unknown\n",
    "# Source - (GeeksforGeeks, 2024)\n",
    "df['studio'] = df['studio'].fillna('Unknown')"
   ]
  },
  {
   "cell_type": "code",
   "execution_count": 27,
   "metadata": {},
   "outputs": [
    {
     "name": "stdout",
     "output_type": "stream",
     "text": [
      "Number of 'Unknown' values in 'studio': 350\n",
      "Number of NaN values in 'studio': 0\n"
     ]
    }
   ],
   "source": [
    "#verifying if NaN values were indeed changed for Unknown\n",
    "# Source - Chatgpt\n",
    "# Check if 'Unknown' exists in the 'studio' column and count occurrences\n",
    "unknown_count = (df['studio'] == 'Unknown').sum()\n",
    "print(f\"Number of 'Unknown' values in 'studio': {unknown_count}\")\n",
    "\n",
    "# Count the number of NaN values in the 'studio' column\n",
    "nan_count_stud = df['studio'].isna().sum()\n",
    "print(f\"Number of NaN values in 'studio': {nan_count_stud}\")\n"
   ]
  },
  {
   "cell_type": "markdown",
   "metadata": {},
   "source": [
    "As it can be seen the NaN values are changed for Unknown, as the total NaN values were 350 before, now there are 0 NaN values and 350 values renamed as Unknown. "
   ]
  },
  {
   "cell_type": "code",
   "execution_count": 10,
   "metadata": {},
   "outputs": [],
   "source": [
    "# NaN values for the rating column will be replaced or renamed as '| Not Rated'\n",
    "# Source - (GeeksforGeeks, 2024)\n",
    "df['rating'] = df['rating'].fillna('| Not Rated')"
   ]
  },
  {
   "cell_type": "code",
   "execution_count": 28,
   "metadata": {},
   "outputs": [
    {
     "name": "stdout",
     "output_type": "stream",
     "text": [
      "Number of '| Not Rated' values in 'rating': 4027\n",
      "Number of NaN values in 'rating': 0\n"
     ]
    }
   ],
   "source": [
    "#verifying if NaN values were indeed changed for '| Not Rated'\n",
    "# Source - Chatgpt\n",
    "# Check if '| Not Rated' exists in the 'rating' column and count occurrences\n",
    "not_rated_count = (df['rating'] == '| Not Rated').sum()\n",
    "print(f\"Number of '| Not Rated' values in 'rating': {not_rated_count}\")\n",
    "\n",
    "# Count the number of NaN values in the 'rating' column\n",
    "nan_count_rat = df['rating'].isna().sum()\n",
    "print(f\"Number of NaN values in 'rating': {nan_count_rat}\")"
   ]
  },
  {
   "cell_type": "markdown",
   "metadata": {},
   "source": [
    "The '| Not rated' values are more as there were existing row already named not rated. As it can be seen all the NaN values within teh rating column has been replaced for '| Not rated'."
   ]
  },
  {
   "cell_type": "code",
   "execution_count": null,
   "metadata": {},
   "outputs": [],
   "source": [
    "# NaN values for the cast column will be replaced or renamed as Unknown\n",
    "# Source - (GeeksforGeeks, 2024)\n",
    "df['cast'] = df['cast'].fillna('Unknown')"
   ]
  },
  {
   "cell_type": "code",
   "execution_count": 29,
   "metadata": {},
   "outputs": [
    {
     "name": "stdout",
     "output_type": "stream",
     "text": [
      "Number of 'Unknown' values in 'cast': 3702\n",
      "Number of NaN values in 'cast': 0\n"
     ]
    }
   ],
   "source": [
    "#verifying if NaN values were indeed changed for Unknown\n",
    "# Source - Chatgpt\n",
    "# Check if 'Unknown' exists in the 'cast' column and count occurrences\n",
    "unknown_count = (df['cast'] == 'Unknown').sum()\n",
    "print(f\"Number of 'Unknown' values in 'cast': {unknown_count}\")\n",
    "\n",
    "# Count the number of NaN values in the 'cast' column\n",
    "nan_count_cas = df['cast'].isna().sum()\n",
    "print(f\"Number of NaN values in 'cast': {nan_count_cas}\")"
   ]
  },
  {
   "cell_type": "markdown",
   "metadata": {},
   "source": [
    "There are 0 NaN values now in the cast column."
   ]
  },
  {
   "cell_type": "code",
   "execution_count": null,
   "metadata": {},
   "outputs": [],
   "source": [
    "# NaN values for the summary column will be replaced or renamed as No Summary Available\n",
    "# Source - (GeeksforGeeks, 2024)\n",
    "df['summary'] = df['summary'].fillna('No Summary Available')"
   ]
  },
  {
   "cell_type": "code",
   "execution_count": 30,
   "metadata": {},
   "outputs": [
    {
     "name": "stdout",
     "output_type": "stream",
     "text": [
      "Number of 'No Summary Available' values in 'summary': 5897\n",
      "Number of NaN values in 'summary': 0\n"
     ]
    }
   ],
   "source": [
    "#verifying if NaN values were indeed changed for No Summary Available\n",
    "# Source - Chatgpt\n",
    "# Check if 'No Summary Available' exists in the 'summary' column and count occurrences\n",
    "nosumav_count = (df['summary'] == 'No Summary Available').sum()\n",
    "print(f\"Number of 'No Summary Available' values in 'summary': {nosumav_count}\")\n",
    "\n",
    "# Count the number of NaN values in the 'cast' column\n",
    "nan_count_sum = df['summary'].isna().sum()\n",
    "print(f\"Number of NaN values in 'summary': {nan_count_sum}\")"
   ]
  },
  {
   "cell_type": "markdown",
   "metadata": {},
   "source": [
    "There are 0 NaN values now in the summary column."
   ]
  },
  {
   "cell_type": "code",
   "execution_count": 16,
   "metadata": {},
   "outputs": [],
   "source": [
    "# NaN values for the awards column will be replaced or renamed as No Awards\n",
    "# Source - (GeeksforGeeks, 2024)\n",
    "df['awards'] = df['awards'].fillna('No Awards')"
   ]
  },
  {
   "cell_type": "code",
   "execution_count": 31,
   "metadata": {},
   "outputs": [
    {
     "name": "stdout",
     "output_type": "stream",
     "text": [
      "Number of 'No Awards' values in 'awards': 6977\n",
      "Number of NaN values in 'awards': 0\n"
     ]
    }
   ],
   "source": [
    "#verifying if NaN values were indeed changed for No Awards\n",
    "# Source - Chatgpt\n",
    "# Check if 'No Awards' exists in the 'awards' column and count occurrences\n",
    "no_awards_count = (df['awards'] == 'No Awards').sum()\n",
    "print(f\"Number of 'No Awards' values in 'awards': {no_awards_count}\")\n",
    "\n",
    "# Count the number of NaN values in the 'awards' column\n",
    "nan_count_awa = df['awards'].isna().sum()\n",
    "print(f\"Number of NaN values in 'awards': {nan_count_awa}\")"
   ]
  },
  {
   "cell_type": "markdown",
   "metadata": {},
   "source": [
    "As identified before the total NaN values were 6977, these NaN values are now replaced or renamed as No Awards"
   ]
  },
  {
   "cell_type": "code",
   "execution_count": null,
   "metadata": {},
   "outputs": [
    {
     "name": "stdout",
     "output_type": "stream",
     "text": [
      "The lowest value in the 'userscore' column is: 0.2\n"
     ]
    }
   ],
   "source": [
    "# Find the lowest value in the 'userscore' column\n",
    "# Source chatgpt\n",
    "lowest_userscore = df['userscore'].min()\n",
    "print(f\"The lowest value in the 'userscore' column is: {lowest_userscore}\")\n"
   ]
  },
  {
   "cell_type": "code",
   "execution_count": null,
   "metadata": {},
   "outputs": [
    {
     "name": "stdout",
     "output_type": "stream",
     "text": [
      "There are no entries with a value of 0 in the 'userscore' column.\n"
     ]
    }
   ],
   "source": [
    "# Check if there are any 0 values in the 'userscore' column and count them\n",
    "# Source chatgpt\n",
    "zero_count = (df['userscore'] == 0).sum()\n",
    "if zero_count > 0:\n",
    "    print(f\"There are {zero_count} entries with a value of 0 in the 'userscore' column.\")\n",
    "else:\n",
    "    print(\"There are no entries with a value of 0 in the 'userscore' column.\")\n"
   ]
  },
  {
   "cell_type": "markdown",
   "metadata": {},
   "source": [
    "There are no userscores, with a value of 0 and teh lowest value is 0.2. Therfore, the NaN values will be replaced for a 0 value."
   ]
  },
  {
   "cell_type": "code",
   "execution_count": 21,
   "metadata": {},
   "outputs": [],
   "source": [
    "# NaN values for the userscore column will be replaced for 0\n",
    "# Source - (GeeksforGeeks, 2024)\n",
    "df['userscore'] = df['userscore'].fillna('0')"
   ]
  },
  {
   "cell_type": "code",
   "execution_count": 32,
   "metadata": {},
   "outputs": [
    {
     "name": "stdout",
     "output_type": "stream",
     "text": [
      "Number of '0' values in 'userscore': 2105\n",
      "Number of NaN values in 'userscore': 0\n"
     ]
    }
   ],
   "source": [
    "#verifying if NaN values were indeed changed for 0\n",
    "# Source - Chatgpt\n",
    "# Check if '0' exists in the 'userscore' column and count occurrences\n",
    "zero_count = (df['userscore'] == '0').sum()\n",
    "print(f\"Number of '0' values in 'userscore': {zero_count}\")\n",
    "\n",
    "# Count the number of NaN values in the 'userscore' column\n",
    "nan_count_scor = df['userscore'].isna().sum()\n",
    "print(f\"Number of NaN values in 'userscore': {nan_count_scor}\")"
   ]
  },
  {
   "cell_type": "markdown",
   "metadata": {},
   "source": [
    "S previously identified the total number of NaN values are now replaced for 0. "
   ]
  },
  {
   "cell_type": "code",
   "execution_count": 24,
   "metadata": {},
   "outputs": [
    {
     "name": "stdout",
     "output_type": "stream",
     "text": [
      "The lowest value in the 'runtime' column is: 21.0\n"
     ]
    }
   ],
   "source": [
    "# Find the lowest value in the 'runtime' column\n",
    "# Source chatgpt\n",
    "lowest_runtime = df['runtime'].min()\n",
    "print(f\"The lowest value in the 'runtime' column is: {lowest_runtime}\")"
   ]
  },
  {
   "cell_type": "code",
   "execution_count": 25,
   "metadata": {},
   "outputs": [],
   "source": [
    "# NaN values for the runtime column will be replaced for 0\n",
    "# Source - (GeeksforGeeks, 2024)\n",
    "df['runtime'] = df['runtime'].fillna('0')"
   ]
  },
  {
   "cell_type": "code",
   "execution_count": 33,
   "metadata": {},
   "outputs": [
    {
     "name": "stdout",
     "output_type": "stream",
     "text": [
      "Number of '0' values in 'runtime': 255\n",
      "Number of NaN values in 'runtime': 0\n"
     ]
    }
   ],
   "source": [
    "#verifying if NaN values were indeed changed for 0\n",
    "# Source - Chatgpt\n",
    "# Check if '0' exists in the 'runtime' column and count occurrences\n",
    "cero_count = (df['runtime'] == '0').sum()\n",
    "print(f\"Number of '0' values in 'runtime': {cero_count}\")\n",
    "\n",
    "# Count the number of NaN values in the 'runtime' column\n",
    "nan_count_run = df['runtime'].isna().sum()\n",
    "print(f\"Number of NaN values in 'runtime': {nan_count_run}\")"
   ]
  },
  {
   "cell_type": "markdown",
   "metadata": {},
   "source": [
    "The total NaN values are now replaced with a 0"
   ]
  },
  {
   "cell_type": "code",
   "execution_count": 34,
   "metadata": {},
   "outputs": [],
   "source": [
    "# Drop rows with NaN in 'director', and 'genre'\n",
    "df = df[df['director'].notna()]\n",
    "df = df[df['genre'].notna()]"
   ]
  },
  {
   "cell_type": "code",
   "execution_count": 35,
   "metadata": {},
   "outputs": [
    {
     "name": "stdout",
     "output_type": "stream",
     "text": [
      "Number of NaN values in 'genre': 0\n"
     ]
    }
   ],
   "source": [
    "# Count the number of NaN values in the 'genre' column\n",
    "nan_count_gen = df['genre'].isna().sum()\n",
    "print(f\"Number of NaN values in 'genre': {nan_count_gen}\")"
   ]
  },
  {
   "cell_type": "code",
   "execution_count": 36,
   "metadata": {},
   "outputs": [
    {
     "name": "stdout",
     "output_type": "stream",
     "text": [
      "Number of NaN values in 'director': 0\n"
     ]
    }
   ],
   "source": [
    "# Count the number of NaN values in the 'director' column\n",
    "nan_count_dir = df['director'].isna().sum()\n",
    "print(f\"Number of NaN values in 'director': {nan_count_dir}\")"
   ]
  },
  {
   "cell_type": "markdown",
   "metadata": {},
   "source": [
    "The genre and director column does not contain any NaN values, the NaN values rows were succesfully removed."
   ]
  },
  {
   "cell_type": "code",
   "execution_count": 38,
   "metadata": {},
   "outputs": [
    {
     "data": {
      "text/html": [
       "<div>\n",
       "<style scoped>\n",
       "    .dataframe tbody tr th:only-of-type {\n",
       "        vertical-align: middle;\n",
       "    }\n",
       "\n",
       "    .dataframe tbody tr th {\n",
       "        vertical-align: top;\n",
       "    }\n",
       "\n",
       "    .dataframe thead th {\n",
       "        text-align: right;\n",
       "    }\n",
       "</style>\n",
       "<table border=\"1\" class=\"dataframe\">\n",
       "  <thead>\n",
       "    <tr style=\"text-align: right;\">\n",
       "      <th></th>\n",
       "      <th>url</th>\n",
       "      <th>title</th>\n",
       "      <th>studio</th>\n",
       "      <th>rating</th>\n",
       "      <th>runtime</th>\n",
       "      <th>cast</th>\n",
       "      <th>director</th>\n",
       "      <th>genre</th>\n",
       "      <th>summary</th>\n",
       "      <th>awards</th>\n",
       "      <th>metascore</th>\n",
       "      <th>userscore</th>\n",
       "      <th>reldate</th>\n",
       "    </tr>\n",
       "  </thead>\n",
       "  <tbody>\n",
       "    <tr>\n",
       "      <th>0</th>\n",
       "      <td>https://www.metacritic.com/movie/!women-art-re...</td>\n",
       "      <td>!Women Art Revolution</td>\n",
       "      <td>Hotwire Productions</td>\n",
       "      <td>| Not Rated</td>\n",
       "      <td>83.0</td>\n",
       "      <td>Unknown</td>\n",
       "      <td>Lynn Hershman-Leeson</td>\n",
       "      <td>Documentary</td>\n",
       "      <td>No Summary Available</td>\n",
       "      <td>No Awards</td>\n",
       "      <td>70</td>\n",
       "      <td>0</td>\n",
       "      <td>2011-06-01</td>\n",
       "    </tr>\n",
       "    <tr>\n",
       "      <th>1</th>\n",
       "      <td>https://www.metacritic.com/movie/10-cloverfiel...</td>\n",
       "      <td>10 Cloverfield Lane</td>\n",
       "      <td>Paramount Pictures</td>\n",
       "      <td>| PG-13</td>\n",
       "      <td>104.0</td>\n",
       "      <td>John Gallagher Jr.,John Goodman,Mary Elizabeth...</td>\n",
       "      <td>Dan Trachtenberg</td>\n",
       "      <td>Action,Sci-Fi,Drama,Mystery,Thriller,Horror</td>\n",
       "      <td>Waking up from a car accident, a young woman (...</td>\n",
       "      <td>#18MostDiscussedMovieof2016 , #1MostSharedMovi...</td>\n",
       "      <td>76</td>\n",
       "      <td>7.7</td>\n",
       "      <td>2016-03-11</td>\n",
       "    </tr>\n",
       "    <tr>\n",
       "      <th>2</th>\n",
       "      <td>https://www.metacritic.com/movie/10-items-or-less</td>\n",
       "      <td>10 Items or Less</td>\n",
       "      <td>Click Star</td>\n",
       "      <td>| R</td>\n",
       "      <td>82.0</td>\n",
       "      <td>Jonah Hill,Morgan Freeman,Paz Vega</td>\n",
       "      <td>Brad Silberling</td>\n",
       "      <td>Drama,Comedy,Romance</td>\n",
       "      <td>While researching a role as a supermarket mana...</td>\n",
       "      <td>No Awards</td>\n",
       "      <td>54</td>\n",
       "      <td>5.8</td>\n",
       "      <td>2006-12-01</td>\n",
       "    </tr>\n",
       "    <tr>\n",
       "      <th>3</th>\n",
       "      <td>https://www.metacritic.com/movie/10-years</td>\n",
       "      <td>10 Years</td>\n",
       "      <td>Anchor Bay Entertainment</td>\n",
       "      <td>| R</td>\n",
       "      <td>100.0</td>\n",
       "      <td>Channing Tatum,Chris Pratt,Jenna Dewan</td>\n",
       "      <td>Jamie Linden</td>\n",
       "      <td>Drama,Comedy,Romance</td>\n",
       "      <td>No Summary Available</td>\n",
       "      <td>No Awards</td>\n",
       "      <td>61</td>\n",
       "      <td>6.9</td>\n",
       "      <td>2012-09-14</td>\n",
       "    </tr>\n",
       "    <tr>\n",
       "      <th>4</th>\n",
       "      <td>https://www.metacritic.com/movie/100-bloody-acres</td>\n",
       "      <td>100 Bloody Acres</td>\n",
       "      <td>Music Box Films</td>\n",
       "      <td>| Not Rated</td>\n",
       "      <td>91.0</td>\n",
       "      <td>Unknown</td>\n",
       "      <td>Cameron Cairnes</td>\n",
       "      <td>Horror,Comedy</td>\n",
       "      <td>Reg and Lindsay run an organic fertilizer busi...</td>\n",
       "      <td>No Awards</td>\n",
       "      <td>63</td>\n",
       "      <td>7.5</td>\n",
       "      <td>2013-06-28</td>\n",
       "    </tr>\n",
       "  </tbody>\n",
       "</table>\n",
       "</div>"
      ],
      "text/plain": [
       "                                                 url                  title  \\\n",
       "0  https://www.metacritic.com/movie/!women-art-re...  !Women Art Revolution   \n",
       "1  https://www.metacritic.com/movie/10-cloverfiel...    10 Cloverfield Lane   \n",
       "2  https://www.metacritic.com/movie/10-items-or-less       10 Items or Less   \n",
       "3          https://www.metacritic.com/movie/10-years               10 Years   \n",
       "4  https://www.metacritic.com/movie/100-bloody-acres       100 Bloody Acres   \n",
       "\n",
       "                     studio       rating runtime  \\\n",
       "0       Hotwire Productions  | Not Rated    83.0   \n",
       "1        Paramount Pictures      | PG-13   104.0   \n",
       "2                Click Star          | R    82.0   \n",
       "3  Anchor Bay Entertainment          | R   100.0   \n",
       "4           Music Box Films  | Not Rated    91.0   \n",
       "\n",
       "                                                cast              director  \\\n",
       "0                                            Unknown  Lynn Hershman-Leeson   \n",
       "1  John Gallagher Jr.,John Goodman,Mary Elizabeth...      Dan Trachtenberg   \n",
       "2                 Jonah Hill,Morgan Freeman,Paz Vega       Brad Silberling   \n",
       "3             Channing Tatum,Chris Pratt,Jenna Dewan          Jamie Linden   \n",
       "4                                            Unknown       Cameron Cairnes   \n",
       "\n",
       "                                         genre  \\\n",
       "0                                  Documentary   \n",
       "1  Action,Sci-Fi,Drama,Mystery,Thriller,Horror   \n",
       "2                         Drama,Comedy,Romance   \n",
       "3                         Drama,Comedy,Romance   \n",
       "4                                Horror,Comedy   \n",
       "\n",
       "                                             summary  \\\n",
       "0                               No Summary Available   \n",
       "1  Waking up from a car accident, a young woman (...   \n",
       "2  While researching a role as a supermarket mana...   \n",
       "3                               No Summary Available   \n",
       "4  Reg and Lindsay run an organic fertilizer busi...   \n",
       "\n",
       "                                              awards  metascore userscore  \\\n",
       "0                                          No Awards         70         0   \n",
       "1  #18MostDiscussedMovieof2016 , #1MostSharedMovi...         76       7.7   \n",
       "2                                          No Awards         54       5.8   \n",
       "3                                          No Awards         61       6.9   \n",
       "4                                          No Awards         63       7.5   \n",
       "\n",
       "     reldate  \n",
       "0 2011-06-01  \n",
       "1 2016-03-11  \n",
       "2 2006-12-01  \n",
       "3 2012-09-14  \n",
       "4 2013-06-28  "
      ]
     },
     "execution_count": 38,
     "metadata": {},
     "output_type": "execute_result"
    }
   ],
   "source": [
    "# Rename the 'RelDate' column to 'reldate'\n",
    "df.rename(columns={'RelDate': 'reldate'}, inplace=True)\n",
    "df.head()"
   ]
  },
  {
   "cell_type": "markdown",
   "metadata": {},
   "source": [
    "The titles are now all in lower case letters."
   ]
  },
  {
   "cell_type": "code",
   "execution_count": null,
   "metadata": {},
   "outputs": [],
   "source": []
  },
  {
   "cell_type": "code",
   "execution_count": null,
   "metadata": {},
   "outputs": [],
   "source": []
  },
  {
   "cell_type": "code",
   "execution_count": null,
   "metadata": {},
   "outputs": [],
   "source": []
  },
  {
   "cell_type": "code",
   "execution_count": null,
   "metadata": {},
   "outputs": [],
   "source": []
  },
  {
   "cell_type": "code",
   "execution_count": null,
   "metadata": {},
   "outputs": [],
   "source": []
  },
  {
   "cell_type": "code",
   "execution_count": null,
   "metadata": {},
   "outputs": [],
   "source": []
  },
  {
   "cell_type": "code",
   "execution_count": null,
   "metadata": {},
   "outputs": [],
   "source": []
  },
  {
   "cell_type": "markdown",
   "metadata": {},
   "source": [
    "# Reference"
   ]
  },
  {
   "cell_type": "markdown",
   "metadata": {},
   "source": [
    "Eddie. (2024, October 14). How to handle missing data in Python? [Explained in 5 easy steps]. Analytics Vidhya. https://www.analyticsvidhya.com/blog/2021/05/dealing-with-missing-values-in-python-a-complete-guide/\n",
    "\n",
    "Stack overflow. (n.d.). Clean up excel data with python using pandas package. Stack Overflow. Retrieved November 21, 2024, from https://stackoverflow.com/questions/42234523/clean-up-excel-data-with-python-using-pandas-package\n",
    "\n",
    "Nelamali, N. (2024, October 22). Count NAN values in Pandas DataFrame. Spark by {Examples}. https://sparkbyexamples.com/pandas/count-nan-values-in-pandas/\n",
    "\n",
    "GeeksforGeeks. (2024, August 21). Python | Pandas DataFrame.fillna() to replace Null values in dataframe. GeeksforGeeks. https://www.geeksforgeeks.org/python-pandas-dataframe-fillna-to-replace-null-values-in-dataframe/"
   ]
  },
  {
   "cell_type": "markdown",
   "metadata": {},
   "source": []
  }
 ],
 "metadata": {
  "kernelspec": {
   "display_name": "Practicespace",
   "language": "python",
   "name": "python3"
  },
  "language_info": {
   "codemirror_mode": {
    "name": "ipython",
    "version": 3
   },
   "file_extension": ".py",
   "mimetype": "text/x-python",
   "name": "python",
   "nbconvert_exporter": "python",
   "pygments_lexer": "ipython3",
   "version": "3.12.4"
  }
 },
 "nbformat": 4,
 "nbformat_minor": 2
}
